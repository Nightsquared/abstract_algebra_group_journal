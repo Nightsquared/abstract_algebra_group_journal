{
 "cells": [
  {
   "cell_type": "markdown",
   "metadata": {},
   "source": [
    "<a href=\"https://alexscully.com/archive/aa_group_journal/page_4/\" class=\"previous\">&laquo; Previous Page</a>\n",
    "<a style = \"float: right;\" href=\"https://alexscully.com/archive/aa_group_journal/page_6/\" class=\"next\">Next Page &raquo;</a>\n",
    "<br>\n",
    "*Page 5*\n",
    "## Review 1\n",
    "This page will be a review of what I've learned about group 42, and I'll see if I can use that to glean more information about this group.\n"
   ]
  },
  {
   "cell_type": "code",
   "execution_count": 1,
   "metadata": {},
   "outputs": [],
   "source": [
    "import sys  \n",
    "sys.path.append('../')\n",
    "    \n",
    "from groupstartup import f, elements, e"
   ]
  },
  {
   "cell_type": "markdown",
   "metadata": {},
   "source": [
    "First, I swapped some elements around in the \"standard\" Cayley table I was using.\n",
    "<img src=\"neworder.png\" alt=\"new order of elements for Cayley table\" width=\"500\"/>\n",
    "this brought 5 and a to be the third and fourth elements, which I felt made more sense because they are in the center. This Cayley table has the nice feature of having the center on the diagonal and being more symmetrical than the previous one.\n",
    "\n",
    "Next, I \"researched\" some order 16 group Cayley tables online [here](http://escarbille.free.fr/group.php) to see if they might be isomorphic to $G$. Most could be discounted as possibilites based on having large cyclic subgroups (the Caylay tables on this site grouped elements in a cyclic subgroup of order 8 or more together) or by looking at the elements on the diagonal, i.e. the square of every element, and seeing if the identity appeared 8 times and two other elements appeared 4 times. Those criteria eliminated every possibility...[except one](http://escarbille.free.fr/group/?g=16_3). The Cayley table of this group also looked rather similar to mine.\n",
    "\n",
    "## K8:C2\n",
    "To investigate further whether this group was isomorphic to mine, I wanted to see if it's properties were similar to mine. Fortunetly, I've configured my python file in such a way that I only have to load a different group table to get the properties of that group.\n",
    "\n",
    "Here's the Cayley table for reference:\n",
    "<img src=\"k8c2_1.png\" alt=\"k8c2 Cayley table\" width=\"500\"/>"
   ]
  },
  {
   "cell_type": "code",
   "execution_count": 2,
   "metadata": {},
   "outputs": [
    {
     "name": "stdout",
     "output_type": "stream",
     "text": [
      "subgroups:\n",
      "e\n",
      "e, a2\n",
      "e, a3ba\n",
      "e, aba\n",
      "e, a2, a3ba, aba\n",
      "e, b\n",
      "e, a2b\n",
      "e, a2, b, a2b\n",
      "e, a3bab\n",
      "e, a3ba, b, a3bab\n",
      "e, aba, a2b, a3bab\n",
      "e, abab\n",
      "e, aba, b, abab\n",
      "e, a3ba, a2b, abab\n",
      "e, a2, a3bab, abab\n",
      "e, a2, a3ba, aba, b, a2b, a3bab, abab\n",
      "e, a2, a3, a\n",
      "e, abab, a2ba, ab\n",
      "e, abab, ba, a3b\n",
      "e, a2, a3bab, abab, a2ba, ab, ba, a3b\n",
      "e, a2, a2bab, bab\n",
      "e, a2, a3bab, abab, a3, a, a2bab, bab\n",
      "e, a2, a3ba, aba, b, a2b, a3bab, abab, a3, a, a2ba, ab, ba, a3b, a2bab, bab\n",
      "There are 23 subgroups in total.\n"
     ]
    }
   ],
   "source": [
    "import k8c2\n",
    "print(\"subgroups:\")\n",
    "for subgroup in k8c2.subgroups:\n",
    "    print(', '.join(subgroup))\n",
    "print('There are ' + str(len(k8c2.subgroups)) + ' subgroups in total.')"
   ]
  },
  {
   "cell_type": "markdown",
   "metadata": {},
   "source": [
    "Also important here is the number of subgroups of certain orders. There are 7 subgroups of order 2, 10 groups of order 4, and 3 groups of order 8-the same as my group."
   ]
  },
  {
   "cell_type": "code",
   "execution_count": 3,
   "metadata": {},
   "outputs": [
    {
     "name": "stdout",
     "output_type": "stream",
     "text": [
      "The inverse of e is e\n",
      "The inverse of a2 is a2\n",
      "The inverse of a3ba is a3ba\n",
      "The inverse of aba is aba\n",
      "The inverse of b is b\n",
      "The inverse of a2b is a2b\n",
      "The inverse of a3bab is a3bab\n",
      "The inverse of abab is abab\n",
      "The inverse of a3 is a\n",
      "The inverse of a is a3\n",
      "The inverse of a2ba is ab\n",
      "The inverse of ba is a3b\n",
      "The inverse of a3b is ba\n",
      "The inverse of ab is a2ba\n",
      "The inverse of a2bab is bab\n",
      "The inverse of bab is a2bab\n"
     ]
    }
   ],
   "source": [
    "for a in k8c2.inverses.keys():\n",
    "    print(\"The inverse of \" + a + \" is \" + k8c2.inverses[a])"
   ]
  },
  {
   "cell_type": "markdown",
   "metadata": {},
   "source": [
    "The important thing to note here is that there are 8 elements with themselves as inverses and 4 pairs of inverses, like my group."
   ]
  },
  {
   "cell_type": "code",
   "execution_count": 4,
   "metadata": {
    "scrolled": false
   },
   "outputs": [
    {
     "name": "stdout",
     "output_type": "stream",
     "text": [
      "The order of e is 1\n",
      "e is a generator of {e}\n",
      "The order of a2 is 2\n",
      "a2 is a generator of {a2, e}\n",
      "The order of a3ba is 2\n",
      "a3ba is a generator of {a3ba, e}\n",
      "The order of aba is 2\n",
      "aba is a generator of {aba, e}\n",
      "The order of b is 2\n",
      "b is a generator of {b, e}\n",
      "The order of a2b is 2\n",
      "a2b is a generator of {a2b, e}\n",
      "The order of a3bab is 2\n",
      "a3bab is a generator of {a3bab, e}\n",
      "The order of abab is 2\n",
      "abab is a generator of {abab, e}\n",
      "The order of a3 is 4\n",
      "a3 is a generator of {a3, a2, a, e}\n",
      "The order of a is 4\n",
      "a is a generator of {a, a2, a3, e}\n",
      "The order of a2ba is 4\n",
      "a2ba is a generator of {a2ba, abab, ab, e}\n",
      "The order of ba is 4\n",
      "ba is a generator of {ba, abab, a3b, e}\n",
      "The order of a3b is 4\n",
      "a3b is a generator of {a3b, abab, ba, e}\n",
      "The order of ab is 4\n",
      "ab is a generator of {ab, abab, a2ba, e}\n",
      "The order of a2bab is 4\n",
      "a2bab is a generator of {a2bab, a2, bab, e}\n",
      "The order of bab is 4\n",
      "bab is a generator of {bab, a2, a2bab, e}\n"
     ]
    }
   ],
   "source": [
    "for a in k8c2.cyclics.keys():\n",
    "    print(\"The order of \" + a + \" is \" + str(len(k8c2.cyclics[a])))\n",
    "    print(a + ' is a generator of {'+', '.join(k8c2.cyclics[a])+'}')"
   ]
  },
  {
   "cell_type": "code",
   "execution_count": 5,
   "metadata": {},
   "outputs": [
    {
     "name": "stdout",
     "output_type": "stream",
     "text": [
      "The center of k8c2 is:\n",
      "e, a2, a3bab, abab\n"
     ]
    }
   ],
   "source": [
    "print(\"The center of k8c2 is:\")\n",
    "print(', '.join(k8c2.center))"
   ]
  },
  {
   "cell_type": "code",
   "execution_count": 6,
   "metadata": {},
   "outputs": [
    {
     "name": "stdout",
     "output_type": "stream",
     "text": [
      "The centralizer of e is:\n",
      "e, a2, a3ba, aba, b, a2b, a3bab, abab, a3, a, a2ba, ba, a3b, ab, a2bab, bab\n",
      "The centralizer of a2 is:\n",
      "e, a2, a3ba, aba, b, a2b, a3bab, abab, a3, a, a2ba, ba, a3b, ab, a2bab, bab\n",
      "The centralizer of a3ba is:\n",
      "e, a2, a3ba, aba, b, a2b, a3bab, abab\n",
      "The centralizer of aba is:\n",
      "e, a2, a3ba, aba, b, a2b, a3bab, abab\n",
      "The centralizer of b is:\n",
      "e, a2, a3ba, aba, b, a2b, a3bab, abab\n",
      "The centralizer of a2b is:\n",
      "e, a2, a3ba, aba, b, a2b, a3bab, abab\n",
      "The centralizer of a3bab is:\n",
      "e, a2, a3ba, aba, b, a2b, a3bab, abab, a3, a, a2ba, ba, a3b, ab, a2bab, bab\n",
      "The centralizer of abab is:\n",
      "e, a2, a3ba, aba, b, a2b, a3bab, abab, a3, a, a2ba, ba, a3b, ab, a2bab, bab\n",
      "The centralizer of a3 is:\n",
      "e, a2, a3bab, abab, a3, a, a2bab, bab\n",
      "The centralizer of a is:\n",
      "e, a2, a3bab, abab, a3, a, a2bab, bab\n",
      "The centralizer of a2ba is:\n",
      "e, a2, a3bab, abab, a2ba, ba, a3b, ab\n",
      "The centralizer of ba is:\n",
      "e, a2, a3bab, abab, a2ba, ba, a3b, ab\n",
      "The centralizer of a3b is:\n",
      "e, a2, a3bab, abab, a2ba, ba, a3b, ab\n",
      "The centralizer of ab is:\n",
      "e, a2, a3bab, abab, a2ba, ba, a3b, ab\n",
      "The centralizer of a2bab is:\n",
      "e, a2, a3bab, abab, a3, a, a2bab, bab\n",
      "The centralizer of bab is:\n",
      "e, a2, a3bab, abab, a3, a, a2bab, bab\n"
     ]
    }
   ],
   "source": [
    "for a in k8c2.centralizers.keys():\n",
    "    print(\"The centralizer of \"+a+\" is:\")\n",
    "    print(', '.join(k8c2.centralizers[a]))"
   ]
  },
  {
   "cell_type": "markdown",
   "metadata": {},
   "source": [
    "At a high level, it seems like the properties of K8:C2 are all the same, but the only way of knowing for sure is to make a bijection. To do this, I'll assume a bijection exists, determine what elements must be mapped to each other given that, and see if that bijection holds up under all operations.\n",
    "To start, we can clearly tell that the identities are the same (2 and e, that is). We also know that the other three elements in the center must map to each other (8, 5, a and a2, a3bab, abab). 5, a, a2, and abab are all the result of squares of other elements, while 8 and a3bab are not, so 8 must map to a3bab.\n",
    "Beyond this, however, I couldn't think of a way to distinguish which elements of each pairs where which. To get the full bijection, I believe I'll have to do some guessing and checking, or know more properties of elements. I'll continue that in the future.\n",
    "\n",
    "<a href=\"https://alexscully.com/archive/aa_group_journal/page_5/page_5.ipynb\" download>Download this notebook</a>\n",
    "<br>\n",
    "<a href=\"https://alexscully.com/archive/aa_group_journal/\">Go back to Table of Contents</a>"
   ]
  }
 ],
 "metadata": {
  "kernelspec": {
   "display_name": "Python 3",
   "language": "python",
   "name": "python3"
  },
  "language_info": {
   "codemirror_mode": {
    "name": "ipython",
    "version": 3
   },
   "file_extension": ".py",
   "mimetype": "text/x-python",
   "name": "python",
   "nbconvert_exporter": "python",
   "pygments_lexer": "ipython3",
   "version": "3.8.3"
  }
 },
 "nbformat": 4,
 "nbformat_minor": 4
}
