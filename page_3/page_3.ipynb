{
 "cells": [
  {
   "cell_type": "markdown",
   "metadata": {},
   "source": [
    "<a href=\"http://parkerniko.com/archive/aa_group_journal/page_2/\" class=\"previous\">&laquo; Previous Page</a>\n",
    "<a style = \"float: right;\" href=\"http://parkerniko.com/archive/aa_group_journal/page_4/\" class=\"next\">Next Page &raquo;</a>\n",
    "<br>\n",
    "*Page 3*\n",
    "# Center and Centralizers\n",
    "For this page I'll be determining the Center of $G$ and the centralizer of each element in $G$, and note any properties I observe.\n",
    "\n",
    "In other news, I've moved the startup code to an [external file](http://parkerniko.com/archive/aa_group_journal/groupstartup.py) and will import what I need from now on, to keep things tidy."
   ]
  },
  {
   "cell_type": "code",
   "execution_count": 1,
   "metadata": {},
   "outputs": [],
   "source": [
    "import sys  \n",
    "sys.path.insert(0, '../')\n",
    "\n",
    "from groupstartup import f, elements"
   ]
  },
  {
   "cell_type": "markdown",
   "metadata": {},
   "source": [
    "## The Center\n",
    "To determine the Center of $G$, We can just go through each element in $G$ and see if it is commutitive accross every other element in $G$.\n",
    "We can assume that $e$ will be in the center. (I don't do this in the code because it's simpler not to, however)."
   ]
  },
  {
   "cell_type": "code",
   "execution_count": 2,
   "metadata": {},
   "outputs": [
    {
     "name": "stdout",
     "output_type": "stream",
     "text": [
      "6 is not commutitive with g.\n",
      "1 is not commutitive with g.\n",
      "h is not commutitive with g.\n",
      "3 is not commutitive with g.\n",
      "g is not commutitive with 6.\n",
      "d is not commutitive with 6.\n",
      "4 is not commutitive with 6.\n",
      "c is not commutitive with 6.\n",
      "i is not commutitive with 6.\n",
      "f is not commutitive with 6.\n",
      "b is not commutitive with 6.\n",
      "7 is not commutitive with 6.\n",
      "The center of G is:\n",
      "2, 8, 5, a\n"
     ]
    }
   ],
   "source": [
    "center = []\n",
    "for a in elements:\n",
    "    isincenter = True\n",
    "    for x in elements:\n",
    "        if isincenter and not f(a, x) == f(x, a):\n",
    "            print(a + ' is not commutitive with '+x+'.')\n",
    "            isincenter = False\n",
    "    if isincenter:\n",
    "        center.append(a)\n",
    "print(\"The center of G is:\")\n",
    "print(', '.join(center))"
   ]
  },
  {
   "cell_type": "markdown",
   "metadata": {},
   "source": [
    "<img src=\"center.png\" alt=\"Cayley table of center\" width=\"125\"/>\n",
    "I confirmed this by looking at the Cayley table. We also know from before that this is an abelian subgroup."
   ]
  },
  {
   "cell_type": "markdown",
   "metadata": {},
   "source": [
    "## Centralizers\n",
    "Next, let's calculate the centralizer for each element."
   ]
  },
  {
   "cell_type": "code",
   "execution_count": 3,
   "metadata": {},
   "outputs": [
    {
     "name": "stdout",
     "output_type": "stream",
     "text": [
      "The centralizer of 2 is:\n",
      "2, 8, 5, a, 6, 1, h, 3, g, d, 4, c, i, f, b, 7\n",
      "The centralizer of 8 is:\n",
      "2, 8, 5, a, 6, 1, h, 3, g, d, 4, c, i, f, b, 7\n",
      "The centralizer of 5 is:\n",
      "2, 8, 5, a, 6, 1, h, 3, g, d, 4, c, i, f, b, 7\n",
      "The centralizer of a is:\n",
      "2, 8, 5, a, 6, 1, h, 3, g, d, 4, c, i, f, b, 7\n",
      "The centralizer of 6 is:\n",
      "2, 8, 5, a, 6, 1, h, 3\n",
      "The centralizer of 1 is:\n",
      "2, 8, 5, a, 6, 1, h, 3\n",
      "The centralizer of h is:\n",
      "2, 8, 5, a, 6, 1, h, 3\n",
      "The centralizer of 3 is:\n",
      "2, 8, 5, a, 6, 1, h, 3\n",
      "The centralizer of g is:\n",
      "2, 8, 5, a, g, d, 4, c\n",
      "The centralizer of d is:\n",
      "2, 8, 5, a, g, d, 4, c\n",
      "The centralizer of 4 is:\n",
      "2, 8, 5, a, g, d, 4, c\n",
      "The centralizer of c is:\n",
      "2, 8, 5, a, g, d, 4, c\n",
      "The centralizer of i is:\n",
      "2, 8, 5, a, i, f, b, 7\n",
      "The centralizer of f is:\n",
      "2, 8, 5, a, i, f, b, 7\n",
      "The centralizer of b is:\n",
      "2, 8, 5, a, i, f, b, 7\n",
      "The centralizer of 7 is:\n",
      "2, 8, 5, a, i, f, b, 7\n"
     ]
    }
   ],
   "source": [
    "centralizers = {}\n",
    "for a in elements:\n",
    "    centralizer = []\n",
    "    for x in elements:\n",
    "        if f(a, x) == f(x, a):\n",
    "            centralizer.append(x)\n",
    "    centralizers.update({a:centralizer})\n",
    "for a in centralizers.keys():\n",
    "    print(\"The centralizer of \"+a+\" is:\")\n",
    "    print(', '.join(centralizers[a]))"
   ]
  },
  {
   "cell_type": "markdown",
   "metadata": {},
   "source": [
    "Centralizer of 1, 6, h, and 3:\n",
    "<img src=\"centralizer1.png\" alt=\"Cayley table of centralizer 1\" width=\"250\"/>\n",
    "Centralizer of g, d, 4, and c:\n",
    "<img src=\"centralizer2.png\" alt=\"Cayley table of centralizer 2\" width=\"250\"/>\n",
    "Centralizer of i, f, b, and 7:\n",
    "<img src=\"centralizer3.png\" alt=\"Cayley table of centralizer 3\" width=\"250\"/>\n",
    "Every element not in the center is in one of the 8-element subgroups. Because every smaller subgroup of $G$ is abelian, and centralizers are always subgroups, the centralizer of every element not in the center must be in the largest subgroup (besides $G$) that element is in. This also brings to light that each element not in the center is in exactly one of the 3 8-element subgroups, while the elements in the center are in all 8-element subgroups.\n",
    "\n",
    "<a href=\"http://parkerniko.com/archive/aa_group_journal/page_3/page_3.ipynb\" download>Download this notebook</a>\n",
    "<br>\n",
    "<a href=\"http://parkerniko.com/archive/aa_group_journal/\">Go back to Table of Contents</a>"
   ]
  }
 ],
 "metadata": {
  "kernelspec": {
   "display_name": "Python 3",
   "language": "python",
   "name": "python3"
  },
  "language_info": {
   "codemirror_mode": {
    "name": "ipython",
    "version": 3
   },
   "file_extension": ".py",
   "mimetype": "text/x-python",
   "name": "python",
   "nbconvert_exporter": "python",
   "pygments_lexer": "ipython3",
   "version": "3.8.3"
  }
 },
 "nbformat": 4,
 "nbformat_minor": 4
}
