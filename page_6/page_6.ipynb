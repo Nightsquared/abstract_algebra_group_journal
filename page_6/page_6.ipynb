{
 "cells": [
  {
   "cell_type": "markdown",
   "metadata": {},
   "source": [
    "<a href=\"https://alexscully.com/archive/aa_group_journal/page_5/\" class=\"previous\">&laquo; Previous Page</a>\n",
    "<a style = \"float: right;\" href=\"https://alexscully.com/archive/aa_group_journal/page_7/\" class=\"next\">Next Page &raquo;</a>\n",
    "<br>\n",
    "*Page 6*\n",
    "# Constructing a Bijection\n",
    "Continuing from the previous page, this page will attempt to construct a bijection between K8:c2 (the known group I found) and $G$."
   ]
  },
  {
   "cell_type": "code",
   "execution_count": 1,
   "metadata": {},
   "outputs": [],
   "source": [
    "import sys  \n",
    "sys.path.append('../')\n",
    "    \n",
    "from groupstartup import f, elements, e\n",
    "import k8c2"
   ]
  },
  {
   "cell_type": "code",
   "execution_count": 2,
   "metadata": {},
   "outputs": [],
   "source": [
    "def verify(a, b, bijection):\n",
    "    global elements\n",
    "    assert a in elements, str(a) + \" is not an element of G.\"\n",
    "    assert b in elements, str(b) + \" is not an element of G.\"\n",
    "    return bijection[f(a,b)] == k8c2.f(bijection[a],bijection[b])\n",
    "\n",
    "def testBijection(bijection):\n",
    "    failures = []\n",
    "    for a in bijection.keys():\n",
    "        for b in bijection.keys():\n",
    "            if not verify(a, b, bijection):\n",
    "                failures.append(a + ' = ' + bijection[a] + ' and ' + b + ' = ' + bijection[b] + ' failed:\\n'\n",
    "                                + '    f('+a+', '+b+') = ' +f(a, b) + ' but k8c2.f('+bijection[a]+','+bijection[b]+ ') = ' + k8c2.f(bijection[a],bijection[b])+\".\\n\")\n",
    "    return failures"
   ]
  },
  {
   "cell_type": "markdown",
   "metadata": {},
   "source": [
    "These functions test that a bijection (implemented as a python dictionary) is function preserving (specifically, testBijection tests this; verfiy is a helper function). The simplest way to find a bijection would be to test every possible combination, but that would require testing 16! potential candidates-well out of the realm of possibility for Python. (Maybe someone could do it in C; who knows.) From last time, we know that 2 maps to the identity and 8 maps to a3bab. To further narrow the possibilities, We can use the properties of isomorphisms to narrow the number of possibilities:\n",
    "1. The elements in G in the center must map to elements in K8C2 in the center\n",
    "2. Elements must map to other elements of the same order\n",
    "3. Elements must preserve powers after mapping (effectively, the four elements that map to 5 or a must all map to either abab or a2)\n",
    "\n",
    "These properties allow the following:"
   ]
  },
  {
   "cell_type": "code",
   "execution_count": 3,
   "metadata": {},
   "outputs": [],
   "source": [
    "bijection = {\n",
    "    '2':'e',\n",
    "    '8':'a3bab'\n",
    "}\n",
    "for i in testBijection(bijection):\n",
    "    print(i)"
   ]
  },
  {
   "cell_type": "code",
   "execution_count": 4,
   "metadata": {},
   "outputs": [],
   "source": [
    "bijection = {\n",
    "    '2':'e',\n",
    "    '8':'a3bab',\n",
    "    '5':'abab',\n",
    "    'a':'a2',\n",
    "}\n",
    "for i in testBijection(bijection):\n",
    "    print(i)"
   ]
  },
  {
   "cell_type": "code",
   "execution_count": 5,
   "metadata": {},
   "outputs": [
    {
     "name": "stdout",
     "output_type": "stream",
     "text": [
      "{'i': 'a3', 'b': 'a', 'f': 'a2bab', '7': 'bab', 'g': 'a2ba', '4': 'ba', 'd': 'a3b', 'c': 'ab', '2': 'e', '8': 'a3bab', 'a': 'abab', '5': 'a2', '6': 'a3ba', 'h': 'aba', '1': 'b', '3': 'a2b'}\n",
      "{'b': 'a3', 'i': 'a', '7': 'a2bab', 'f': 'bab', '4': 'a2ba', 'g': 'ba', 'c': 'a3b', 'd': 'ab', '2': 'e', '8': 'a3bab', 'a': 'abab', '5': 'a2', '6': 'a3ba', 'h': 'aba', '1': 'b', '3': 'a2b'}\n",
      "{'f': 'a3', '7': 'a', 'i': 'a2bab', 'b': 'bab', 'd': 'a2ba', 'c': 'ba', 'g': 'a3b', '4': 'ab', '2': 'e', '8': 'a3bab', 'a': 'abab', '5': 'a2', '6': 'a3ba', 'h': 'aba', '1': 'b', '3': 'a2b'}\n",
      "{'7': 'a3', 'f': 'a', 'b': 'a2bab', 'i': 'bab', 'c': 'a2ba', 'd': 'ba', '4': 'a3b', 'g': 'ab', '2': 'e', '8': 'a3bab', 'a': 'abab', '5': 'a2', '6': 'a3ba', 'h': 'aba', '1': 'b', '3': 'a2b'}\n",
      "{'b': 'a3', 'i': 'a', '7': 'a2bab', 'f': 'bab', 'g': 'a2ba', '4': 'ba', 'd': 'a3b', 'c': 'ab', '2': 'e', '8': 'a3bab', 'a': 'abab', '5': 'a2', 'h': 'a3ba', '6': 'aba', '3': 'b', '1': 'a2b'}\n",
      "{'i': 'a3', 'b': 'a', 'f': 'a2bab', '7': 'bab', '4': 'a2ba', 'g': 'ba', 'c': 'a3b', 'd': 'ab', '2': 'e', '8': 'a3bab', 'a': 'abab', '5': 'a2', 'h': 'a3ba', '6': 'aba', '3': 'b', '1': 'a2b'}\n",
      "{'7': 'a3', 'f': 'a', 'b': 'a2bab', 'i': 'bab', 'd': 'a2ba', 'c': 'ba', 'g': 'a3b', '4': 'ab', '2': 'e', '8': 'a3bab', 'a': 'abab', '5': 'a2', 'h': 'a3ba', '6': 'aba', '3': 'b', '1': 'a2b'}\n",
      "{'f': 'a3', '7': 'a', 'i': 'a2bab', 'b': 'bab', 'c': 'a2ba', 'd': 'ba', '4': 'a3b', 'g': 'ab', '2': 'e', '8': 'a3bab', 'a': 'abab', '5': 'a2', 'h': 'a3ba', '6': 'aba', '3': 'b', '1': 'a2b'}\n",
      "{'f': 'a3', '7': 'a', 'i': 'a2bab', 'b': 'bab', 'g': 'a2ba', '4': 'ba', 'd': 'a3b', 'c': 'ab', '2': 'e', '8': 'a3bab', 'a': 'abab', '5': 'a2', '1': 'a3ba', '3': 'aba', '6': 'b', 'h': 'a2b'}\n",
      "{'7': 'a3', 'f': 'a', 'b': 'a2bab', 'i': 'bab', '4': 'a2ba', 'g': 'ba', 'c': 'a3b', 'd': 'ab', '2': 'e', '8': 'a3bab', 'a': 'abab', '5': 'a2', '1': 'a3ba', '3': 'aba', '6': 'b', 'h': 'a2b'}\n",
      "{'i': 'a3', 'b': 'a', 'f': 'a2bab', '7': 'bab', 'd': 'a2ba', 'c': 'ba', 'g': 'a3b', '4': 'ab', '2': 'e', '8': 'a3bab', 'a': 'abab', '5': 'a2', '1': 'a3ba', '3': 'aba', '6': 'b', 'h': 'a2b'}\n",
      "{'b': 'a3', 'i': 'a', '7': 'a2bab', 'f': 'bab', 'c': 'a2ba', 'd': 'ba', '4': 'a3b', 'g': 'ab', '2': 'e', '8': 'a3bab', 'a': 'abab', '5': 'a2', '1': 'a3ba', '3': 'aba', '6': 'b', 'h': 'a2b'}\n",
      "{'7': 'a3', 'f': 'a', 'b': 'a2bab', 'i': 'bab', 'g': 'a2ba', '4': 'ba', 'd': 'a3b', 'c': 'ab', '2': 'e', '8': 'a3bab', 'a': 'abab', '5': 'a2', '3': 'a3ba', '1': 'aba', 'h': 'b', '6': 'a2b'}\n",
      "{'f': 'a3', '7': 'a', 'i': 'a2bab', 'b': 'bab', '4': 'a2ba', 'g': 'ba', 'c': 'a3b', 'd': 'ab', '2': 'e', '8': 'a3bab', 'a': 'abab', '5': 'a2', '3': 'a3ba', '1': 'aba', 'h': 'b', '6': 'a2b'}\n",
      "{'b': 'a3', 'i': 'a', '7': 'a2bab', 'f': 'bab', 'd': 'a2ba', 'c': 'ba', 'g': 'a3b', '4': 'ab', '2': 'e', '8': 'a3bab', 'a': 'abab', '5': 'a2', '3': 'a3ba', '1': 'aba', 'h': 'b', '6': 'a2b'}\n",
      "{'i': 'a3', 'b': 'a', 'f': 'a2bab', '7': 'bab', 'c': 'a2ba', 'd': 'ba', '4': 'a3b', 'g': 'ab', '2': 'e', '8': 'a3bab', 'a': 'abab', '5': 'a2', '3': 'a3ba', '1': 'aba', 'h': 'b', '6': 'a2b'}\n",
      "{'g': 'a3', 'c': 'a', 'd': 'a2bab', '4': 'bab', 'i': 'a2ba', '7': 'ba', 'f': 'a3b', 'b': 'ab', '2': 'e', '8': 'a3bab', '5': 'abab', 'a': 'a2', '6': 'a3ba', '3': 'aba', '1': 'b', 'h': 'a2b'}\n",
      "{'4': 'a3', 'd': 'a', 'c': 'a2bab', 'g': 'bab', 'b': 'a2ba', 'f': 'ba', '7': 'a3b', 'i': 'ab', '2': 'e', '8': 'a3bab', '5': 'abab', 'a': 'a2', '6': 'a3ba', '3': 'aba', '1': 'b', 'h': 'a2b'}\n",
      "{'d': 'a3', '4': 'a', 'g': 'a2bab', 'c': 'bab', 'f': 'a2ba', 'b': 'ba', 'i': 'a3b', '7': 'ab', '2': 'e', '8': 'a3bab', '5': 'abab', 'a': 'a2', '6': 'a3ba', '3': 'aba', '1': 'b', 'h': 'a2b'}\n",
      "{'c': 'a3', 'g': 'a', '4': 'a2bab', 'd': 'bab', '7': 'a2ba', 'i': 'ba', 'b': 'a3b', 'f': 'ab', '2': 'e', '8': 'a3bab', '5': 'abab', 'a': 'a2', '6': 'a3ba', '3': 'aba', '1': 'b', 'h': 'a2b'}\n",
      "{'g': 'a3', 'c': 'a', 'd': 'a2bab', '4': 'bab', 'b': 'a2ba', 'f': 'ba', '7': 'a3b', 'i': 'ab', '2': 'e', '8': 'a3bab', '5': 'abab', 'a': 'a2', 'h': 'a3ba', '1': 'aba', '3': 'b', '6': 'a2b'}\n",
      "{'4': 'a3', 'd': 'a', 'c': 'a2bab', 'g': 'bab', 'i': 'a2ba', '7': 'ba', 'f': 'a3b', 'b': 'ab', '2': 'e', '8': 'a3bab', '5': 'abab', 'a': 'a2', 'h': 'a3ba', '1': 'aba', '3': 'b', '6': 'a2b'}\n",
      "{'d': 'a3', '4': 'a', 'g': 'a2bab', 'c': 'bab', '7': 'a2ba', 'i': 'ba', 'b': 'a3b', 'f': 'ab', '2': 'e', '8': 'a3bab', '5': 'abab', 'a': 'a2', 'h': 'a3ba', '1': 'aba', '3': 'b', '6': 'a2b'}\n",
      "{'c': 'a3', 'g': 'a', '4': 'a2bab', 'd': 'bab', 'f': 'a2ba', 'b': 'ba', 'i': 'a3b', '7': 'ab', '2': 'e', '8': 'a3bab', '5': 'abab', 'a': 'a2', 'h': 'a3ba', '1': 'aba', '3': 'b', '6': 'a2b'}\n",
      "{'g': 'a3', 'c': 'a', 'd': 'a2bab', '4': 'bab', 'f': 'a2ba', 'b': 'ba', 'i': 'a3b', '7': 'ab', '2': 'e', '8': 'a3bab', '5': 'abab', 'a': 'a2', '1': 'a3ba', 'h': 'aba', '6': 'b', '3': 'a2b'}\n",
      "{'4': 'a3', 'd': 'a', 'c': 'a2bab', 'g': 'bab', '7': 'a2ba', 'i': 'ba', 'b': 'a3b', 'f': 'ab', '2': 'e', '8': 'a3bab', '5': 'abab', 'a': 'a2', '1': 'a3ba', 'h': 'aba', '6': 'b', '3': 'a2b'}\n",
      "{'d': 'a3', '4': 'a', 'g': 'a2bab', 'c': 'bab', 'i': 'a2ba', '7': 'ba', 'f': 'a3b', 'b': 'ab', '2': 'e', '8': 'a3bab', '5': 'abab', 'a': 'a2', '1': 'a3ba', 'h': 'aba', '6': 'b', '3': 'a2b'}\n",
      "{'c': 'a3', 'g': 'a', '4': 'a2bab', 'd': 'bab', 'b': 'a2ba', 'f': 'ba', '7': 'a3b', 'i': 'ab', '2': 'e', '8': 'a3bab', '5': 'abab', 'a': 'a2', '1': 'a3ba', 'h': 'aba', '6': 'b', '3': 'a2b'}\n",
      "{'g': 'a3', 'c': 'a', 'd': 'a2bab', '4': 'bab', '7': 'a2ba', 'i': 'ba', 'b': 'a3b', 'f': 'ab', '2': 'e', '8': 'a3bab', '5': 'abab', 'a': 'a2', '3': 'a3ba', '6': 'aba', 'h': 'b', '1': 'a2b'}\n",
      "{'4': 'a3', 'd': 'a', 'c': 'a2bab', 'g': 'bab', 'f': 'a2ba', 'b': 'ba', 'i': 'a3b', '7': 'ab', '2': 'e', '8': 'a3bab', '5': 'abab', 'a': 'a2', '3': 'a3ba', '6': 'aba', 'h': 'b', '1': 'a2b'}\n",
      "{'d': 'a3', '4': 'a', 'g': 'a2bab', 'c': 'bab', 'b': 'a2ba', 'f': 'ba', '7': 'a3b', 'i': 'ab', '2': 'e', '8': 'a3bab', '5': 'abab', 'a': 'a2', '3': 'a3ba', '6': 'aba', 'h': 'b', '1': 'a2b'}\n",
      "{'c': 'a3', 'g': 'a', '4': 'a2bab', 'd': 'bab', 'i': 'a2ba', '7': 'ba', 'f': 'a3b', 'b': 'ab', '2': 'e', '8': 'a3bab', '5': 'abab', 'a': 'a2', '3': 'a3ba', '6': 'aba', 'h': 'b', '1': 'a2b'}\n"
     ]
    }
   ],
   "source": [
    "#here, I perform bijection tests on subsets, which allows me to eliminate some possibilites early \n",
    "#(i.e. I eliminated possible bijections that didn't work on the subgroup in which all elements have order 2 or less)\n",
    "passed = []\n",
    "from itertools import permutations\n",
    "for j in permutations('a5'):\n",
    "    for i in permutations('6h13'):\n",
    "        thisbijection = {\n",
    "            '2':'e',\n",
    "            '8':'a3bab',\n",
    "            #assign a and 5 o abab or a2\n",
    "            j[0]:'abab',\n",
    "            j[1]:'a2',\n",
    "            # assign 6, h, 1, and 3 to a3ba, aba, b, or a2b\n",
    "            i[0]:'a3ba',\n",
    "            i[1]:'aba',\n",
    "            i[2]:'b',\n",
    "            i[3]:'a2b'\n",
    "        }\n",
    "        result = testBijection(thisbijection)\n",
    "        if result != []:\n",
    "            pass\n",
    "            #print('combination ' + ', '.join(i) + ' failed.')\n",
    "        else:\n",
    "            #print('combination ' + ', '.join(j) + ', '+', '.join(i) + ' passed.')\n",
    "            passed.append(thisbijection)\n",
    "          \n",
    "for thisbijection in passed:\n",
    "    for k in permutations('g4dc'):\n",
    "        for l in permutations('ibf7'):\n",
    "            #assignments here and for newbijection2 keep all elements with the same square together, as in point 3 above\n",
    "            newbijection = {\n",
    "                k[0]:'a3',\n",
    "                k[1]:'a',\n",
    "                k[2]:'a2bab',\n",
    "                k[3]:'bab',\n",
    "                l[0]:'a2ba',\n",
    "                l[1]:'ba',\n",
    "                l[2]:'a3b',\n",
    "                l[3]:'ab'\n",
    "            }\n",
    "            for i in thisbijection.keys():\n",
    "                newbijection.update({i:thisbijection[i]})\n",
    "\n",
    "            result = testBijection(newbijection)\n",
    "            if result != []:\n",
    "                pass\n",
    "                #print('combination ' + ', '.join(i) + ' failed.')\n",
    "            else:\n",
    "                print(newbijection)\n",
    "                #passed.append(thisbijection)\n",
    "                \n",
    "            newbijection2 = {\n",
    "                l[0]:'a3',\n",
    "                l[1]:'a',\n",
    "                l[2]:'a2bab',\n",
    "                l[3]:'bab',\n",
    "                k[0]:'a2ba',\n",
    "                k[1]:'ba',\n",
    "                k[2]:'a3b',\n",
    "                k[3]:'ab'\n",
    "            }\n",
    "            for i in thisbijection.keys():\n",
    "                newbijection2.update({i:thisbijection[i]})\n",
    "\n",
    "            result = testBijection(newbijection2)\n",
    "            if result != []:\n",
    "                pass\n",
    "                #print('combination ' + ', '.join(i) + ' failed.')\n",
    "            else:\n",
    "                print(newbijection2)\n",
    "                #passed.append(thisbijection)\n",
    "            "
   ]
  },
  {
   "cell_type": "markdown",
   "metadata": {},
   "source": [
    "This *should* be an exhaustive list of bijections, although the code wasn't designed to produce all of them. This doesn't really matter, though; it just matters that there is an operation-preserving bijection (these bijections were tested as such in the verify and testBijection functions).\n",
    "<br>\n",
    "<a href=\"https://alexscully.com/archive/aa_group_journal/page_6/page_6.ipynb\" download>Download this notebook</a>\n",
    "<br>\n",
    "<a href=\"https://alexscully.com/archive/aa_group_journal/\">Go back to Table of Contents</a>"
   ]
  }
 ],
 "metadata": {
  "kernelspec": {
   "display_name": "Python 3",
   "language": "python",
   "name": "python3"
  },
  "language_info": {
   "codemirror_mode": {
    "name": "ipython",
    "version": 3
   },
   "file_extension": ".py",
   "mimetype": "text/x-python",
   "name": "python",
   "nbconvert_exporter": "python",
   "pygments_lexer": "ipython3",
   "version": "3.8.3"
  }
 },
 "nbformat": 4,
 "nbformat_minor": 4
}
