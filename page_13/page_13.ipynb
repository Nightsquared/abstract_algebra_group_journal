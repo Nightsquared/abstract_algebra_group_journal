{
 "cells": [
  {
   "cell_type": "markdown",
   "metadata": {},
   "source": [
    "<a href=\"http://parkerniko.com/archive/aa_group_journal/page_12/\" class=\"previous\">&laquo; Previous Page</a>\n",
    "<a style = \"float: right;\" href=\"http://parkerniko.com/archive/aa_group_journal/page_14/\" class=\"next\">Next Page &raquo;</a>\n",
    "<br>\n",
    "*Page 13*\n",
    "# Homomorphisms\n",
    "For this page I'll find and display the homomorphic images of my group. Originally I was going to do this in the last page, but because my group is non-abelian, I don't think I can do any meaningful analysis of it related to the fundamental\n",
    "theorem of finite abelian groups or rings, so homomorphisms is the last topic I will investigate, making it better to put on its own page."
   ]
  },
  {
   "cell_type": "code",
   "execution_count": 1,
   "metadata": {},
   "outputs": [],
   "source": [
    "import sys  \n",
    "sys.path.append('../')\n",
    "    \n",
    "from groupstartup import f, elements, e, subgroups, normal_subgroups, factor_groups"
   ]
  },
  {
   "cell_type": "markdown",
   "metadata": {},
   "source": [
    "For this page, I'm mainly interested in the homomorphic images created by the factor groups. Looking at these homomorphisms convienently saves time on determining the kernal, as the normal subgroup is the kernal of the homomorphism."
   ]
  },
  {
   "cell_type": "code",
   "execution_count": 2,
   "metadata": {},
   "outputs": [
    {
     "name": "stdout",
     "output_type": "stream",
     "text": [
      "'2'=>[['2'], ['8'], ['5'], ['a'], ['6'], ['1'], ['h'], ['3'], ['g'], ['d'], ['4'], ['c'], ['i'], ['f'], ['b'], ['7']],\n",
      "'28'=>[['2', '8'], ['5', 'a'], ['1', '6'], ['h', '3'], ['g', 'd'], ['c', '4'], ['f', 'i'], ['b', '7']],\n",
      "'25'=>[['5', '2'], ['8', 'a'], ['h', '6'], ['1', '3'], ['g', '4'], ['c', 'd'], ['b', 'i'], ['f', '7']],\n",
      "'2a'=>[['2', 'a'], ['5', '8'], ['3', '6'], ['1', 'h'], ['g', 'c'], ['4', 'd'], ['i', '7'], ['b', 'f']],\n",
      "'285a'=>[['5', '2', 'a', '8'], ['1', '3', 'h', '6'], ['g', 'c', '4', 'd'], ['b', 'f', 'i', '7']],\n",
      "'2861'=>[['1', '2', '6', '8'], ['5', '3', 'a', 'h'], ['g', 'f', 'i', 'd'], ['b', 'c', '4', '7']],\n",
      "'28h3'=>[['h', '2', '3', '8'], ['5', 'a', '6', '1'], ['g', 'b', '7', 'd'], ['i', 'c', 'f', '4']],\n",
      "'285a61h3'=>[['2', 'h', '6', '5', '8', '1', '3', 'a'], ['7', 'g', 'c', 'i', 'f', 'd', 'b', '4']],\n",
      "'285agcd4'=>[['2', 'g', 'c', '5', '8', 'd', 'a', '4'], ['7', 'h', '6', 'b', 'i', '1', 'f', '3']],\n",
      "'285aibf7'=>[['2', '7', 'i', '5', '8', 'f', 'b', 'a'], ['h', 'c', 'g', '6', '1', 'd', '3', '4']],\n",
      "'285a61h3gcd4ibf7'=>[['2', '7', 'h', 'g', 'c', '6', 'i', 'b', '5', '8', '1', 'f', 'd', '3', 'a', '4']],\n"
     ]
    }
   ],
   "source": [
    "for group in factor_groups.keys():\n",
    "    print(\"'\"+str(group)+\"'=>\"+str(factor_groups[group])+',')"
   ]
  },
  {
   "cell_type": "markdown",
   "metadata": {},
   "source": [
    "I created a visualization of the homomorphic images <a href=\"http://parkerniko.com/archive/aa_group_journal/page_13/homomorphic_images.php\">here</a>, but I didn't have much success figuring out what groups the images of order 8 were, but the images of order 4 are $\\mathbb{Z}_2 \\oplus \\mathbb{Z}_2$. I find it interesting that the image of, say {2, 5} is not abelian despite all of the subgroups being abelian.\n",
    "<br>\n",
    "<a href=\"http://parkerniko.com/archive/aa_group_journal/page_13/page_13.ipynb\" download>Download this notebook</a>\n",
    "<br>\n",
    "<a href=\"http://parkerniko.com/archive/aa_group_journal/\">Go back to Table of Contents</a>"
   ]
  }
 ],
 "metadata": {
  "kernelspec": {
   "display_name": "Python 3",
   "language": "python",
   "name": "python3"
  },
  "language_info": {
   "codemirror_mode": {
    "name": "ipython",
    "version": 3
   },
   "file_extension": ".py",
   "mimetype": "text/x-python",
   "name": "python",
   "nbconvert_exporter": "python",
   "pygments_lexer": "ipython3",
   "version": "3.8.3"
  }
 },
 "nbformat": 4,
 "nbformat_minor": 4
}
