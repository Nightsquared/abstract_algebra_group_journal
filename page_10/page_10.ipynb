{
 "cells": [
  {
   "cell_type": "markdown",
   "metadata": {},
   "source": [
    "<a href=\"http://parkerniko.com/archive/aa_group_journal/page_9/\" class=\"previous\">&laquo; Previous Page</a>\n",
    "<a style = \"float: right;\" href=\"http://parkerniko.com/archive/aa_group_journal/page_11/\" class=\"next\">Next Page &raquo;</a>\n",
    "<br>\n",
    "*Page 10*\n",
    "# Cosets, Orbits, and Stabilizers\n",
    "I made/used <a href=\"http://parkerniko.com/archive/aa_group_journal/page_10/cosets.php\" class=\"previous\">this</a> web app for seeing the cosets of the various subgroups of this group. I didn't find anything of particular interest."
   ]
  },
  {
   "cell_type": "code",
   "execution_count": 1,
   "metadata": {},
   "outputs": [],
   "source": [
    "import sys  \n",
    "sys.path.append('../')\n",
    "    \n",
    "from groupstartup import f, elements, e"
   ]
  },
  {
   "cell_type": "markdown",
   "metadata": {},
   "source": [
    "I'll use Python and the permutation code from last time to calculate orbits. (The stablizer for each element is just the identity, as every other permutation moves all elements"
   ]
  },
  {
   "cell_type": "code",
   "execution_count": 2,
   "metadata": {},
   "outputs": [],
   "source": [
    "elementlabels = {}\n",
    "for i in range(1, len(elements)+1):\n",
    "    if i < 10:\n",
    "        elementlabels[elements[i-1]] = str(i)\n",
    "    else:\n",
    "        elementlabels[elements[i-1]] = chr(ord('A')+i-10)\n",
    "        \n",
    "permutations = []\n",
    "for element in elements:\n",
    "    remainingelements = [i for i in elements]\n",
    "    thismap = {}\n",
    "    while(len(remainingelements) > 0):\n",
    "        currentelement = remainingelements.pop(0)\n",
    "        mappedelement = f(element, currentelement)\n",
    "        thismap[elementlabels[currentelement]] = elementlabels[mappedelement]\n",
    "    permutations.append(thismap)"
   ]
  },
  {
   "cell_type": "code",
   "execution_count": 3,
   "metadata": {},
   "outputs": [
    {
     "name": "stdout",
     "output_type": "stream",
     "text": [
      "the orbit of 2 is:\n",
      "['1', '2', '3', '4', '5', '6', '7', '8', '9', 'A', 'B', 'C', 'D', 'E', 'F', 'G']\n",
      "the orbit of 8 is:\n",
      "['2', '1', '4', '3', '6', '5', '8', '7', 'A', '9', 'C', 'B', 'E', 'D', 'G', 'F']\n",
      "the orbit of 5 is:\n",
      "['3', '4', '1', '2', '7', '8', '5', '6', 'B', 'C', '9', 'A', 'F', 'G', 'D', 'E']\n",
      "the orbit of a is:\n",
      "['4', '3', '2', '1', '8', '7', '6', '5', 'C', 'B', 'A', '9', 'G', 'F', 'E', 'D']\n",
      "the orbit of 6 is:\n",
      "['5', '6', '7', '8', '1', '2', '3', '4', 'D', 'E', 'F', 'G', '9', 'A', 'B', 'C']\n",
      "the orbit of 1 is:\n",
      "['6', '5', '8', '7', '2', '1', '4', '3', 'E', 'D', 'G', 'F', 'A', '9', 'C', 'B']\n",
      "the orbit of h is:\n",
      "['7', '8', '5', '6', '3', '4', '1', '2', 'F', 'G', 'D', 'E', 'B', 'C', '9', 'A']\n",
      "the orbit of 3 is:\n",
      "['8', '7', '6', '5', '4', '3', '2', '1', 'G', 'F', 'E', 'D', 'C', 'B', 'A', '9']\n",
      "the orbit of g is:\n",
      "['9', 'A', 'B', 'C', 'E', 'D', 'G', 'F', '4', '3', '2', '1', '7', '8', '5', '6']\n",
      "the orbit of d is:\n",
      "['A', '9', 'C', 'B', 'D', 'E', 'F', 'G', '3', '4', '1', '2', '8', '7', '6', '5']\n",
      "the orbit of 4 is:\n",
      "['B', 'C', '9', 'A', 'G', 'F', 'E', 'D', '2', '1', '4', '3', '5', '6', '7', '8']\n",
      "the orbit of c is:\n",
      "['C', 'B', 'A', '9', 'F', 'G', 'D', 'E', '1', '2', '3', '4', '6', '5', '8', '7']\n",
      "the orbit of i is:\n",
      "['D', 'E', 'F', 'G', 'A', '9', 'C', 'B', '8', '7', '6', '5', '3', '4', '1', '2']\n",
      "the orbit of f is:\n",
      "['E', 'D', 'G', 'F', '9', 'A', 'B', 'C', '7', '8', '5', '6', '4', '3', '2', '1']\n",
      "the orbit of b is:\n",
      "['F', 'G', 'D', 'E', 'C', 'B', 'A', '9', '6', '5', '8', '7', '1', '2', '3', '4']\n",
      "the orbit of 7 is:\n",
      "['G', 'F', 'E', 'D', 'B', 'C', '9', 'A', '5', '6', '7', '8', '2', '1', '4', '3']\n"
     ]
    }
   ],
   "source": [
    "for element in elements:\n",
    "    orbit = []\n",
    "    for permutation in permutations:\n",
    "        thislabel = permutation[elementlabels[element]]\n",
    "        if not thislabel in orbit:\n",
    "            orbit.append(thislabel)\n",
    "    print('the orbit of '+ element + ' is:')\n",
    "    print(orbit)"
   ]
  },
  {
   "cell_type": "markdown",
   "metadata": {},
   "source": [
    "The orbits have just reprinted the Cayley table-which makes sense. I don't think this has revealed anything new in particular.\n",
    "<br>\n",
    "<a href=\"http://parkerniko.com/archive/aa_group_journal/page_10/page_10.ipynb\" download>Download this notebook</a>\n",
    "<br>\n",
    "<a href=\"http://parkerniko.com/archive/aa_group_journal/\">Go back to Table of Contents</a>"
   ]
  }
 ],
 "metadata": {
  "kernelspec": {
   "display_name": "Python 3",
   "language": "python",
   "name": "python3"
  },
  "language_info": {
   "codemirror_mode": {
    "name": "ipython",
    "version": 3
   },
   "file_extension": ".py",
   "mimetype": "text/x-python",
   "name": "python",
   "nbconvert_exporter": "python",
   "pygments_lexer": "ipython3",
   "version": "3.8.3"
  }
 },
 "nbformat": 4,
 "nbformat_minor": 4
}
