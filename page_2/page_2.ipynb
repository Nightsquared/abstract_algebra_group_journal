{
 "cells": [
  {
   "cell_type": "markdown",
   "metadata": {},
   "source": [
    "<a href=\"https://alexscully.com/archive/aa_group_journal/page_1/\" class=\"previous\">&laquo; Previous Page</a>\n",
    "<a style = \"float: right;\" href=\"https://alexscully.com/archive/aa_group_journal/page_3/\" class=\"next\">Next Page &raquo;</a>\n",
    "<br>\n",
    "*Page 2*\n",
    "# Subgroups\n",
    "For this page, I (python, more accurately) will identify the subgroups of $G$, and note any properties I notice about them."
   ]
  },
  {
   "cell_type": "code",
   "execution_count": 1,
   "metadata": {},
   "outputs": [],
   "source": [
    "#common setup (variable definitions)\n",
    "#import group data from the uploaded csv\n",
    "import pandas as pd\n",
    "import numpy as np\n",
    "df = pd.read_csv (r'https://alexscully.com/archive/aa_group_journal/orderedgroup.csv', header = None)\n",
    "group = df.to_numpy()\n",
    "\n",
    "#define list of elements\n",
    "elements = [i for i in group[0]];\n",
    "\n",
    "#define lookup dicts\n",
    "lookup = {group[0][i]:i for i in range(len(group))}\n",
    "rlookup = {i:group[0][i] for i in range(len(group))}\n",
    "\n",
    "#create and fill group table dictionary\n",
    "groupdict = {}\n",
    "for i in range(len(group)):\n",
    "    subdict = {}\n",
    "    for j in range(len(group)):\n",
    "        subdict.update({rlookup[j]:group[i][j]})\n",
    "    groupdict.update({rlookup[i]:subdict})\n",
    "    \n",
    "#define function using groupdict (should make reading code easier)\n",
    "def f(a, b):\n",
    "    global groupdict, elements\n",
    "    assert a in elements, str(a) + \" is not an element.\"\n",
    "    assert b in elements, str(b) + \" is not an element.\"\n",
    "    return groupdict[str(a)][str(b)]\n",
    "    \n",
    "#define identity so it's clear what I'm referring to in code\n",
    "e = '2'\n",
    "\n",
    "#create and fill inverses dictionary\n",
    "inverses = {}\n",
    "for a in elements:\n",
    "    for b in elements:\n",
    "        if f(a, b) == e and f(b, a) == e:\n",
    "            inverses.update({a:b})\n",
    "\n",
    "#define inverse function\n",
    "def i(a):\n",
    "    global inverses, elements\n",
    "    assert a in elements, str(a) + \" is not an element.\"\n",
    "    return inverses[str(a)]"
   ]
  },
  {
   "cell_type": "markdown",
   "metadata": {},
   "source": [
    "My plan is to once again use python to find subgroups. I can iterate over every possible candidate for a subgroup and perform the subgroup test on it. Because $G$ is finite, I only have to check that a subgroup is closed, and I can narrow the search by only including certain candidates groups:\n",
    "* Always include the identity (also avoids a false positive on the empty set)\n",
    "* Only including inverses in pairs.\n",
    "\n",
    "This will reduce the number of candidates from $2^{16}$ to $2^{11}$."
   ]
  },
  {
   "cell_type": "code",
   "execution_count": 2,
   "metadata": {},
   "outputs": [],
   "source": [
    "candidate_elements = [['8'], ['6'], ['1'], ['5'], ['a'], ['3'], ['h'], ['d', '4'], ['g', 'c'], ['i', 'b'], ['f', '7']]\n",
    "candidates = []\n",
    "for i in range(2**len(candidate_elements)):\n",
    "    thiscandidate = [e]\n",
    "    for j in range(len(candidate_elements)):\n",
    "        if (i>>j)%2 == 1:\n",
    "            for k in candidate_elements[j]:\n",
    "                thiscandidate.append(k)\n",
    "    candidates.append(thiscandidate)\n",
    "#print(candidates)\n",
    "            "
   ]
  },
  {
   "cell_type": "code",
   "execution_count": 3,
   "metadata": {},
   "outputs": [
    {
     "name": "stdout",
     "output_type": "stream",
     "text": [
      "subgroups:\n",
      "2\n",
      "2, 8\n",
      "2, 6\n",
      "2, 1\n",
      "2, 8, 6, 1\n",
      "2, 5\n",
      "2, a\n",
      "2, 8, 5, a\n",
      "2, 3\n",
      "2, 1, 5, 3\n",
      "2, 6, a, 3\n",
      "2, h\n",
      "2, 6, 5, h\n",
      "2, 1, a, h\n",
      "2, 8, 3, h\n",
      "2, 8, 6, 1, 5, a, 3, h\n",
      "2, a, d, 4\n",
      "2, a, g, c\n",
      "2, 8, 5, a, d, 4, g, c\n",
      "2, 5, i, b\n",
      "2, 5, f, 7\n",
      "2, 8, 5, a, i, b, f, 7\n",
      "2, 8, 6, 1, 5, a, 3, h, d, 4, g, c, i, b, f, 7\n",
      "There are 23 subgroups in total.\n"
     ]
    }
   ],
   "source": [
    "#run closure test on each candidate\n",
    "#scroll to bottom of results to see subgroups\n",
    "subgroups = []\n",
    "for candidate in candidates:\n",
    "    isclosed = True\n",
    "    for a in candidate:\n",
    "        for b in candidate:\n",
    "            if isclosed and f(a, b) not in candidate:\n",
    "                #print(', '.join(candidate) + ' is not closed for ' + a + ' and ' + b + '. (result is ' + f(a, b) + ')')\n",
    "                isclosed = False\n",
    "    if isclosed:\n",
    "        subgroups.append(candidate)\n",
    "print(\"subgroups:\")\n",
    "for subgroup in subgroups:\n",
    "    print(', '.join(subgroup))\n",
    "print('There are ' + str(len(subgroups)) + ' subgroups in total.')"
   ]
  },
  {
   "cell_type": "markdown",
   "metadata": {},
   "source": [
    "There aren't very many subgroups! To investigate these subgroups, I built another [web app](https://alexscully.com/archive/aa_group_journal/page_2/subgroupviewer.php).\n",
    "Let's take a look at a 4-element subgroup:\n",
    "<img src=\"subgroup1.png\" alt=\"4x4 subgroup\" width=\"125\"/>\n",
    "Notably, this subgroup is symmetrical across the negative slope, meaning it is abelian. (as shown last time, the group as a whole isn't). Let's look at an 8-element subgroup:\n",
    "<img src=\"subgroup2.png\" alt=\"8x8 subgroup\" width=\"250\"/>\n",
    "This group also appears to be abelian. Let's see just how many subgroups are abelian."
   ]
  },
  {
   "cell_type": "code",
   "execution_count": 4,
   "metadata": {},
   "outputs": [
    {
     "name": "stdout",
     "output_type": "stream",
     "text": [
      "abelian subgroups:\n",
      "2\n",
      "2, 8\n",
      "2, 6\n",
      "2, 1\n",
      "2, 8, 6, 1\n",
      "2, 5\n",
      "2, a\n",
      "2, 8, 5, a\n",
      "2, 3\n",
      "2, 1, 5, 3\n",
      "2, 6, a, 3\n",
      "2, h\n",
      "2, 6, 5, h\n",
      "2, 1, a, h\n",
      "2, 8, 3, h\n",
      "2, 8, 6, 1, 5, a, 3, h\n",
      "2, a, d, 4\n",
      "2, a, g, c\n",
      "2, 8, 5, a, d, 4, g, c\n",
      "2, 5, i, b\n",
      "2, 5, f, 7\n",
      "2, 8, 5, a, i, b, f, 7\n",
      "There are 22 abelian subgroups in total.\n",
      "non-abelian subgroups:\n",
      "2, 8, 6, 1, 5, a, 3, h, d, 4, g, c, i, b, f, 7\n",
      "There are 1 non-abelian subgroups in total.\n"
     ]
    }
   ],
   "source": [
    "abelian = []\n",
    "notabelian = []\n",
    "for subgroup in subgroups:\n",
    "    thisisabelian = True\n",
    "    for a in subgroup:\n",
    "        for b in subgroup:\n",
    "            if not f(a, b) == f(b, a):\n",
    "                thisisabelian = False\n",
    "    if thisisabelian:\n",
    "        abelian.append(subgroup)\n",
    "    else:\n",
    "        notabelian.append(subgroup)\n",
    "print(\"abelian subgroups:\")\n",
    "for subgroup in abelian:\n",
    "    print(', '.join(subgroup))\n",
    "print('There are ' + str(len(abelian)) + ' abelian subgroups in total.')\n",
    "print(\"non-abelian subgroups:\")\n",
    "for subgroup in notabelian:\n",
    "    print(', '.join(subgroup))\n",
    "print('There are ' + str(len(notabelian)) + ' non-abelian subgroups in total.')"
   ]
  },
  {
   "cell_type": "markdown",
   "metadata": {},
   "source": [
    "So it appears that every proper subgroup of $G$ is abelian. You can see all subgroup tables [here](https://alexscully.com/archive/aa_group_journal/page_2/viewallsubgroups.php).\n",
    "I found it interesting that with the elements in the order they were given to me by default, all elements on the rising diagonal of all tables had the same element. I don't know what the significance of this is, however.\n",
    "\n",
    "<a href=\"https://alexscully.com/archive/aa_group_journal/page_2/page_2.ipynb\" download>Download this notebook</a>\n",
    "<br>\n",
    "<a href=\"https://alexscully.com/archive/aa_group_journal/\">Go back to Table of Contents</a>"
   ]
  }
 ],
 "metadata": {
  "kernelspec": {
   "display_name": "Python 3",
   "language": "python",
   "name": "python3"
  },
  "language_info": {
   "codemirror_mode": {
    "name": "ipython",
    "version": 3
   },
   "file_extension": ".py",
   "mimetype": "text/x-python",
   "name": "python",
   "nbconvert_exporter": "python",
   "pygments_lexer": "ipython3",
   "version": "3.8.3"
  }
 },
 "nbformat": 4,
 "nbformat_minor": 4
}
