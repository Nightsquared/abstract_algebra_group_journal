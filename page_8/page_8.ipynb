{
 "cells": [
  {
   "cell_type": "markdown",
   "metadata": {},
   "source": [
    "<a href=\"https://alexscully.com/archive/aa_group_journal/page_7/\" class=\"previous\">&laquo; Previous Page</a>\n",
    "<a style = \"float: right;\" href=\"https://alexscully.com/archive/aa_group_journal/page_9/\" class=\"next\">Next Page &raquo;</a>\n",
    "<br>\n",
    "*Page 8*\n",
    "# Automorphisms\n",
    "This page will simply be finding automorphisms, and subgroups of the automorphisms like inner automorphisms. This can be done in largely the same ways as the isomorphisms for K8:C2 where calcualted."
   ]
  },
  {
   "cell_type": "code",
   "execution_count": 1,
   "metadata": {},
   "outputs": [],
   "source": [
    "import sys  \n",
    "sys.path.append('../')\n",
    "    \n",
    "from groupstartup import f, elements, e, verify, testBijection, inverse\n",
    "import z4z2z2\n",
    "import k8c2\n",
    "from numpy import unique"
   ]
  },
  {
   "cell_type": "markdown",
   "metadata": {},
   "source": [
    "Code for all automorphisms is below. I removed some of the assumptions I made the first time so I can be more confident I catch all bijections."
   ]
  },
  {
   "cell_type": "code",
   "execution_count": 2,
   "metadata": {},
   "outputs": [
    {
     "name": "stdout",
     "output_type": "stream",
     "text": [
      "[{'g': 'g', '4': '4', 'd': 'd', 'c': 'c', 'i': 'i', 'b': 'b', 'f': 'f', '7': '7', '2': '2', '8': '8', 'a': 'a', '5': '5', '6': '6', 'h': 'h', '1': '1', '3': '3'}, {'4': 'g', 'g': '4', 'c': 'd', 'd': 'c', 'b': 'i', 'i': 'b', '7': 'f', 'f': '7', '2': '2', '8': '8', 'a': 'a', '5': '5', '6': '6', 'h': 'h', '1': '1', '3': '3'}, {'d': 'g', 'c': '4', 'g': 'd', '4': 'c', 'f': 'i', '7': 'b', 'i': 'f', 'b': '7', '2': '2', '8': '8', 'a': 'a', '5': '5', '6': '6', 'h': 'h', '1': '1', '3': '3'}, {'c': 'g', 'd': '4', '4': 'd', 'g': 'c', '7': 'i', 'f': 'b', 'b': 'f', 'i': '7', '2': '2', '8': '8', 'a': 'a', '5': '5', '6': '6', 'h': 'h', '1': '1', '3': '3'}, {'g': 'g', '4': '4', 'd': 'd', 'c': 'c', 'b': 'i', 'i': 'b', '7': 'f', 'f': '7', '2': '2', '8': '8', 'a': 'a', '5': '5', 'h': '6', '6': 'h', '3': '1', '1': '3'}, {'4': 'g', 'g': '4', 'c': 'd', 'd': 'c', 'i': 'i', 'b': 'b', 'f': 'f', '7': '7', '2': '2', '8': '8', 'a': 'a', '5': '5', 'h': '6', '6': 'h', '3': '1', '1': '3'}, {'d': 'g', 'c': '4', 'g': 'd', '4': 'c', '7': 'i', 'f': 'b', 'b': 'f', 'i': '7', '2': '2', '8': '8', 'a': 'a', '5': '5', 'h': '6', '6': 'h', '3': '1', '1': '3'}, {'c': 'g', 'd': '4', '4': 'd', 'g': 'c', 'f': 'i', '7': 'b', 'i': 'f', 'b': '7', '2': '2', '8': '8', 'a': 'a', '5': '5', 'h': '6', '6': 'h', '3': '1', '1': '3'}, {'g': 'g', '4': '4', 'd': 'd', 'c': 'c', 'f': 'i', '7': 'b', 'i': 'f', 'b': '7', '2': '2', '8': '8', 'a': 'a', '5': '5', '1': '6', '3': 'h', '6': '1', 'h': '3'}, {'4': 'g', 'g': '4', 'c': 'd', 'd': 'c', '7': 'i', 'f': 'b', 'b': 'f', 'i': '7', '2': '2', '8': '8', 'a': 'a', '5': '5', '1': '6', '3': 'h', '6': '1', 'h': '3'}, {'d': 'g', 'c': '4', 'g': 'd', '4': 'c', 'i': 'i', 'b': 'b', 'f': 'f', '7': '7', '2': '2', '8': '8', 'a': 'a', '5': '5', '1': '6', '3': 'h', '6': '1', 'h': '3'}, {'c': 'g', 'd': '4', '4': 'd', 'g': 'c', 'b': 'i', 'i': 'b', '7': 'f', 'f': '7', '2': '2', '8': '8', 'a': 'a', '5': '5', '1': '6', '3': 'h', '6': '1', 'h': '3'}, {'g': 'g', '4': '4', 'd': 'd', 'c': 'c', '7': 'i', 'f': 'b', 'b': 'f', 'i': '7', '2': '2', '8': '8', 'a': 'a', '5': '5', '3': '6', '1': 'h', 'h': '1', '6': '3'}, {'4': 'g', 'g': '4', 'c': 'd', 'd': 'c', 'f': 'i', '7': 'b', 'i': 'f', 'b': '7', '2': '2', '8': '8', 'a': 'a', '5': '5', '3': '6', '1': 'h', 'h': '1', '6': '3'}, {'d': 'g', 'c': '4', 'g': 'd', '4': 'c', 'b': 'i', 'i': 'b', '7': 'f', 'f': '7', '2': '2', '8': '8', 'a': 'a', '5': '5', '3': '6', '1': 'h', 'h': '1', '6': '3'}, {'c': 'g', 'd': '4', '4': 'd', 'g': 'c', 'i': 'i', 'b': 'b', 'f': 'f', '7': '7', '2': '2', '8': '8', 'a': 'a', '5': '5', '3': '6', '1': 'h', 'h': '1', '6': '3'}]\n",
      "16\n"
     ]
    }
   ],
   "source": [
    "#here, I perform bijection tests on subsets, which allows me to eliminate some possibilites early \n",
    "#(i.e. I eliminated possible bijections that didn't work on the subgroup in which all elements have order 2 or less)\n",
    "passed = []\n",
    "from itertools import permutations\n",
    "for j in permutations('a5'):\n",
    "    for i in permutations('6h13'):\n",
    "        thisbijection = {\n",
    "            '2':'2',\n",
    "            '8':'8',\n",
    "            j[0]:'a',\n",
    "            j[1]:'5',\n",
    "            i[0]:'6',\n",
    "            i[1]:'h',\n",
    "            i[2]:'1',\n",
    "            i[3]:'3'\n",
    "        }\n",
    "        result = testBijection(thisbijection, f, f)\n",
    "        if result != []:\n",
    "            pass\n",
    "        else:\n",
    "            passed.append(thisbijection)\n",
    "            \n",
    "passed2 = []\n",
    "for thisbijection in passed:\n",
    "    for k in permutations('g4dc'):\n",
    "        for l in permutations('ibf7'):\n",
    "            newbijection = {\n",
    "                k[0]:'g',\n",
    "                k[1]:'4',\n",
    "                k[2]:'d',\n",
    "                k[3]:'c',\n",
    "                l[0]:'i',\n",
    "                l[1]:'b',\n",
    "                l[2]:'f',\n",
    "                l[3]:'7'\n",
    "            }\n",
    "            for i in thisbijection.keys():\n",
    "                newbijection.update({i:thisbijection[i]})\n",
    "\n",
    "            result = testBijection(newbijection, f, f)\n",
    "            if result != []:\n",
    "                pass\n",
    "            else:\n",
    "                passed2.append(newbijection)\n",
    "            \n",
    "            newbijection2 = {\n",
    "                l[0]:'i',\n",
    "                l[1]:'b',\n",
    "                l[2]:'f',\n",
    "                l[3]:'7',\n",
    "                k[0]:'g',\n",
    "                k[1]:'4',\n",
    "                k[2]:'d',\n",
    "                k[3]:'c'\n",
    "            }\n",
    "            for i in thisbijection.keys():\n",
    "                newbijection2.update({i:thisbijection[i]})\n",
    "\n",
    "            result = testBijection(newbijection2, f, f)\n",
    "            if result != []:\n",
    "                pass\n",
    "            else:\n",
    "                passed2.append(newbijection2)\n",
    "\n",
    "#remove duplicates\n",
    "automorphisms = []\n",
    "for i in passed2:\n",
    "    if not i in automorphisms:\n",
    "        automorphisms.append(i)\n",
    "        \n",
    "print(automorphisms)\n",
    "print(len(automorphisms))"
   ]
  },
  {
   "cell_type": "markdown",
   "metadata": {},
   "source": [
    "We can check the automorphisms by seeing if this set is a group."
   ]
  },
  {
   "cell_type": "code",
   "execution_count": 3,
   "metadata": {},
   "outputs": [
    {
     "name": "stdout",
     "output_type": "stream",
     "text": [
      "{0: {0: 0, 1: 1, 2: 2, 3: 3, 4: 4, 5: 5, 6: 6, 7: 7, 8: 8, 9: 9, 10: 10, 11: 11, 12: 12, 13: 13, 14: 14, 15: 15}, 1: {0: 1, 1: 0, 2: 3, 3: 2, 4: 5, 5: 4, 6: 7, 7: 6, 8: 9, 9: 8, 10: 11, 11: 10, 12: 13, 13: 12, 14: 15, 15: 14}, 2: {0: 2, 1: 3, 2: 0, 3: 1, 4: 6, 5: 7, 6: 4, 7: 5, 8: 10, 9: 11, 10: 8, 11: 9, 12: 14, 13: 15, 14: 12, 15: 13}, 3: {0: 3, 1: 2, 2: 1, 3: 0, 4: 7, 5: 6, 6: 5, 7: 4, 8: 11, 9: 10, 10: 9, 11: 8, 12: 15, 13: 14, 14: 13, 15: 12}, 4: {0: 4, 1: 5, 2: 6, 3: 7, 4: 0, 5: 1, 6: 2, 7: 3, 8: 12, 9: 13, 10: 14, 11: 15, 12: 8, 13: 9, 14: 10, 15: 11}, 5: {0: 5, 1: 4, 2: 7, 3: 6, 4: 1, 5: 0, 6: 3, 7: 2, 8: 13, 9: 12, 10: 15, 11: 14, 12: 9, 13: 8, 14: 11, 15: 10}, 6: {0: 6, 1: 7, 2: 4, 3: 5, 4: 2, 5: 3, 6: 0, 7: 1, 8: 14, 9: 15, 10: 12, 11: 13, 12: 10, 13: 11, 14: 8, 15: 9}, 7: {0: 7, 1: 6, 2: 5, 3: 4, 4: 3, 5: 2, 6: 1, 7: 0, 8: 15, 9: 14, 10: 13, 11: 12, 12: 11, 13: 10, 14: 9, 15: 8}, 8: {0: 8, 1: 9, 2: 10, 3: 11, 4: 12, 5: 13, 6: 14, 7: 15, 8: 0, 9: 1, 10: 2, 11: 3, 12: 4, 13: 5, 14: 6, 15: 7}, 9: {0: 9, 1: 8, 2: 11, 3: 10, 4: 13, 5: 12, 6: 15, 7: 14, 8: 1, 9: 0, 10: 3, 11: 2, 12: 5, 13: 4, 14: 7, 15: 6}, 10: {0: 10, 1: 11, 2: 8, 3: 9, 4: 14, 5: 15, 6: 12, 7: 13, 8: 2, 9: 3, 10: 0, 11: 1, 12: 6, 13: 7, 14: 4, 15: 5}, 11: {0: 11, 1: 10, 2: 9, 3: 8, 4: 15, 5: 14, 6: 13, 7: 12, 8: 3, 9: 2, 10: 1, 11: 0, 12: 7, 13: 6, 14: 5, 15: 4}, 12: {0: 12, 1: 13, 2: 14, 3: 15, 4: 8, 5: 9, 6: 10, 7: 11, 8: 4, 9: 5, 10: 6, 11: 7, 12: 0, 13: 1, 14: 2, 15: 3}, 13: {0: 13, 1: 12, 2: 15, 3: 14, 4: 9, 5: 8, 6: 11, 7: 10, 8: 5, 9: 4, 10: 7, 11: 6, 12: 1, 13: 0, 14: 3, 15: 2}, 14: {0: 14, 1: 15, 2: 12, 3: 13, 4: 10, 5: 11, 6: 8, 7: 9, 8: 6, 9: 7, 10: 4, 11: 5, 12: 2, 13: 3, 14: 0, 15: 1}, 15: {0: 15, 1: 14, 2: 13, 3: 12, 4: 11, 5: 10, 6: 9, 7: 8, 8: 7, 9: 6, 10: 5, 11: 4, 12: 3, 13: 2, 14: 1, 15: 0}}\n"
     ]
    }
   ],
   "source": [
    "#function on two bijections\n",
    "def autof(bij1, bij2):\n",
    "    newbij = {}\n",
    "    for i in bij1.keys():\n",
    "        newbij[i] = bij2[bij1[i]]\n",
    "    return newbij\n",
    "    \n",
    "#closure test+Cayley table generation\n",
    "kayleytable = {}\n",
    "for a in automorphisms:\n",
    "    thisrow = {}\n",
    "    for b in automorphisms:\n",
    "        thisautomorphism = autof(a, b)\n",
    "        if not thisautomorphism in automorphisms:\n",
    "            print(thisautomorphism)\n",
    "        else:\n",
    "            thisrow[automorphisms.index(b)] = automorphisms.index(thisautomorphism)\n",
    "    kayleytable[automorphisms.index(a)] = thisrow\n",
    "\n",
    "print(kayleytable)\n",
    "\n",
    "#code for exporting to csv\n",
    "\n",
    "#automorphisms\n",
    "#for a in elements:\n",
    "#    outstr = a + ','\n",
    "#    for b in automorphisms:\n",
    "#        outstr += b[a]+','\n",
    "#    print(outstr[:-1])\n",
    "\n",
    "#Automorphisms Cayley Table\n",
    "#for a in kayleytable.keys():\n",
    "#    outstr = str(a)+',,'\n",
    "#    for b in kayleytable[a].keys():\n",
    "#        outstr += str(kayleytable[a][b]) + ', '\n",
    "#    print(outstr)"
   ]
  },
  {
   "cell_type": "markdown",
   "metadata": {},
   "source": [
    "The automorphisms can be seen <a href=\"https://alexscully.com/archive/aa_group_journal/page_8/automorphisms.php\">here</a>, with the first row being the identity map. The Cayley table of automorphisms can be seen <a href=\"https://alexscully.com/archive/aa_group_journal/page_8/automorphismsCayley.php\">here</a>. The numbers in they Cayley table correspond to the numbering in the automorphisms page."
   ]
  },
  {
   "cell_type": "markdown",
   "metadata": {},
   "source": [
    "## Inner Automorphisms\n"
   ]
  },
  {
   "cell_type": "code",
   "execution_count": 4,
   "metadata": {},
   "outputs": [
    {
     "name": "stdout",
     "output_type": "stream",
     "text": [
      "The inner automorphism induced by 2 is:\n",
      "{'2': '2', '8': '8', '5': '5', 'a': 'a', '6': '6', '1': '1', 'h': 'h', '3': '3', 'g': 'g', 'd': 'd', '4': '4', 'c': 'c', 'i': 'i', 'f': 'f', 'b': 'b', '7': '7'}\n",
      "this corresponds to automorphism 1\n",
      "The inner automorphism induced by 8 is:\n",
      "{'2': '2', '8': '8', '5': '5', 'a': 'a', '6': '6', '1': '1', 'h': 'h', '3': '3', 'g': 'g', 'd': 'd', '4': '4', 'c': 'c', 'i': 'i', 'f': 'f', 'b': 'b', '7': '7'}\n",
      "this corresponds to automorphism 1\n",
      "The inner automorphism induced by 5 is:\n",
      "{'2': '2', '8': '8', '5': '5', 'a': 'a', '6': '6', '1': '1', 'h': 'h', '3': '3', 'g': 'g', 'd': 'd', '4': '4', 'c': 'c', 'i': 'i', 'f': 'f', 'b': 'b', '7': '7'}\n",
      "this corresponds to automorphism 1\n",
      "The inner automorphism induced by a is:\n",
      "{'2': '2', '8': '8', '5': '5', 'a': 'a', '6': '6', '1': '1', 'h': 'h', '3': '3', 'g': 'g', 'd': 'd', '4': '4', 'c': 'c', 'i': 'i', 'f': 'f', 'b': 'b', '7': '7'}\n",
      "this corresponds to automorphism 1\n",
      "The inner automorphism induced by 6 is:\n",
      "{'2': '2', '8': '8', '5': '5', 'a': 'a', '6': '6', '1': '1', 'h': 'h', '3': '3', 'g': 'd', 'd': 'g', '4': 'c', 'c': '4', 'i': 'f', 'f': 'i', 'b': '7', '7': 'b'}\n",
      "this corresponds to automorphism 3\n",
      "The inner automorphism induced by 1 is:\n",
      "{'2': '2', '8': '8', '5': '5', 'a': 'a', '6': '6', '1': '1', 'h': 'h', '3': '3', 'g': 'd', 'd': 'g', '4': 'c', 'c': '4', 'i': 'f', 'f': 'i', 'b': '7', '7': 'b'}\n",
      "this corresponds to automorphism 3\n",
      "The inner automorphism induced by h is:\n",
      "{'2': '2', '8': '8', '5': '5', 'a': 'a', '6': '6', '1': '1', 'h': 'h', '3': '3', 'g': 'd', 'd': 'g', '4': 'c', 'c': '4', 'i': 'f', 'f': 'i', 'b': '7', '7': 'b'}\n",
      "this corresponds to automorphism 3\n",
      "The inner automorphism induced by 3 is:\n",
      "{'2': '2', '8': '8', '5': '5', 'a': 'a', '6': '6', '1': '1', 'h': 'h', '3': '3', 'g': 'd', 'd': 'g', '4': 'c', 'c': '4', 'i': 'f', 'f': 'i', 'b': '7', '7': 'b'}\n",
      "this corresponds to automorphism 3\n",
      "The inner automorphism induced by g is:\n",
      "{'2': '2', '8': '8', '5': '5', 'a': 'a', '6': '1', '1': '6', 'h': '3', '3': 'h', 'g': 'g', 'd': 'd', '4': '4', 'c': 'c', 'i': 'f', 'f': 'i', 'b': '7', '7': 'b'}\n",
      "this corresponds to automorphism 9\n",
      "The inner automorphism induced by d is:\n",
      "{'2': '2', '8': '8', '5': '5', 'a': 'a', '6': '1', '1': '6', 'h': '3', '3': 'h', 'g': 'g', 'd': 'd', '4': '4', 'c': 'c', 'i': 'f', 'f': 'i', 'b': '7', '7': 'b'}\n",
      "this corresponds to automorphism 9\n",
      "The inner automorphism induced by 4 is:\n",
      "{'2': '2', '8': '8', '5': '5', 'a': 'a', '6': '1', '1': '6', 'h': '3', '3': 'h', 'g': 'g', 'd': 'd', '4': '4', 'c': 'c', 'i': 'f', 'f': 'i', 'b': '7', '7': 'b'}\n",
      "this corresponds to automorphism 9\n",
      "The inner automorphism induced by c is:\n",
      "{'2': '2', '8': '8', '5': '5', 'a': 'a', '6': '1', '1': '6', 'h': '3', '3': 'h', 'g': 'g', 'd': 'd', '4': '4', 'c': 'c', 'i': 'f', 'f': 'i', 'b': '7', '7': 'b'}\n",
      "this corresponds to automorphism 9\n",
      "The inner automorphism induced by i is:\n",
      "{'2': '2', '8': '8', '5': '5', 'a': 'a', '6': '1', '1': '6', 'h': '3', '3': 'h', 'g': 'd', 'd': 'g', '4': 'c', 'c': '4', 'i': 'i', 'f': 'f', 'b': 'b', '7': '7'}\n",
      "this corresponds to automorphism 11\n",
      "The inner automorphism induced by f is:\n",
      "{'2': '2', '8': '8', '5': '5', 'a': 'a', '6': '1', '1': '6', 'h': '3', '3': 'h', 'g': 'd', 'd': 'g', '4': 'c', 'c': '4', 'i': 'i', 'f': 'f', 'b': 'b', '7': '7'}\n",
      "this corresponds to automorphism 11\n",
      "The inner automorphism induced by b is:\n",
      "{'2': '2', '8': '8', '5': '5', 'a': 'a', '6': '1', '1': '6', 'h': '3', '3': 'h', 'g': 'd', 'd': 'g', '4': 'c', 'c': '4', 'i': 'i', 'f': 'f', 'b': 'b', '7': '7'}\n",
      "this corresponds to automorphism 11\n",
      "The inner automorphism induced by 7 is:\n",
      "{'2': '2', '8': '8', '5': '5', 'a': 'a', '6': '1', '1': '6', 'h': '3', '3': 'h', 'g': 'd', 'd': 'g', '4': 'c', 'c': '4', 'i': 'i', 'f': 'f', 'b': 'b', '7': '7'}\n",
      "this corresponds to automorphism 11\n",
      "Dictionary of which automorphism number each element corresponds with:\n",
      "{1: ['2', '8', '5', 'a'], 3: ['6', '1', 'h', '3'], 9: ['g', 'd', '4', 'c'], 11: ['i', 'f', 'b', '7']}\n"
     ]
    }
   ],
   "source": [
    "innerautomorphisms = []\n",
    "innerautomorphismnumdict = {}\n",
    "for element in elements:\n",
    "    inneraut = {}\n",
    "    for a in elements:\n",
    "        inneraut[a] = f(f(element, a), inverse(element))\n",
    "    print('The inner automorphism induced by ' + element + ' is:')\n",
    "    print(inneraut)\n",
    "    print('this corresponds to automorphism ' + str(automorphisms.index(inneraut)+1))\n",
    "    try:\n",
    "        innerautomorphismnumdict[automorphisms.index(inneraut)+1].append(element)\n",
    "    except:\n",
    "        innerautomorphismnumdict[automorphisms.index(inneraut)+1] = [element]\n",
    "    if not inneraut in innerautomorphisms:\n",
    "        innerautomorphisms.append(inneraut)\n",
    "print('Dictionary of which automorphism number each element corresponds with:')\n",
    "print(innerautomorphismnumdict)"
   ]
  },
  {
   "cell_type": "markdown",
   "metadata": {},
   "source": [
    "One thing to notice about these inner automorphisms is that, except for the first one, they all swap pairs of elements in the other two sets of 4."
   ]
  },
  {
   "cell_type": "markdown",
   "metadata": {},
   "source": [
    "<br>\n",
    "<a href=\"https://alexscully.com/archive/aa_group_journal/page_8/page_8.ipynb\" download>Download this notebook</a>\n",
    "<br>\n",
    "<a href=\"https://alexscully.com/archive/aa_group_journal/\">Go back to Table of Contents</a>"
   ]
  }
 ],
 "metadata": {
  "kernelspec": {
   "display_name": "Python 3",
   "language": "python",
   "name": "python3"
  },
  "language_info": {
   "codemirror_mode": {
    "name": "ipython",
    "version": 3
   },
   "file_extension": ".py",
   "mimetype": "text/x-python",
   "name": "python",
   "nbconvert_exporter": "python",
   "pygments_lexer": "ipython3",
   "version": "3.8.3"
  }
 },
 "nbformat": 4,
 "nbformat_minor": 4
}
