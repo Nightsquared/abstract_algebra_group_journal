{
 "cells": [
  {
   "cell_type": "markdown",
   "metadata": {},
   "source": [
    "<a href=\"http://parkerniko.com/archive/aa_group_journal/page_3/\" class=\"previous\">&laquo; Previous Page</a>\n",
    "<a style = \"float: right;\" href=\"http://parkerniko.com/archive/aa_group_journal/page_5/\" class=\"next\">Next Page &raquo;</a>\n",
    "<br>\n",
    "*Page 4*\n",
    "## Orders and Cyclic Subgroups\n",
    "For this page I'll determine the order for each element and see if $G$, or any of its subgroups, is a cyclic group.\n",
    "I calculated the order of each element with the Cayley table:\n",
    "<img src=\"ordertable.png\" alt=\"Cayley table of generator sets\" width=\"500\"/>\n",
    "The order of 2 (e) is 1, the order of the 7 elements after is 2, and the order of the remaining 8 elements is 4.\n",
    "let's confirm with some code:"
   ]
  },
  {
   "cell_type": "code",
   "execution_count": 1,
   "metadata": {},
   "outputs": [
    {
     "name": "stdout",
     "output_type": "stream",
     "text": [
      "The order of 2 is 1\n",
      "2 is a generator of {2}\n",
      "The order of 8 is 2\n",
      "8 is a generator of {8, 2}\n",
      "The order of 5 is 2\n",
      "5 is a generator of {5, 2}\n",
      "The order of a is 2\n",
      "a is a generator of {a, 2}\n",
      "The order of 6 is 2\n",
      "6 is a generator of {6, 2}\n",
      "The order of 1 is 2\n",
      "1 is a generator of {1, 2}\n",
      "The order of h is 2\n",
      "h is a generator of {h, 2}\n",
      "The order of 3 is 2\n",
      "3 is a generator of {3, 2}\n",
      "The order of g is 4\n",
      "g is a generator of {g, a, c, 2}\n",
      "The order of d is 4\n",
      "d is a generator of {d, a, 4, 2}\n",
      "The order of 4 is 4\n",
      "4 is a generator of {4, a, d, 2}\n",
      "The order of c is 4\n",
      "c is a generator of {c, a, g, 2}\n",
      "The order of i is 4\n",
      "i is a generator of {i, 5, b, 2}\n",
      "The order of f is 4\n",
      "f is a generator of {f, 5, 7, 2}\n",
      "The order of b is 4\n",
      "b is a generator of {b, 5, i, 2}\n",
      "The order of 7 is 4\n",
      "7 is a generator of {7, 5, f, 2}\n"
     ]
    }
   ],
   "source": [
    "import sys  \n",
    "sys.path.append('../')\n",
    "    \n",
    "from groupstartup import f, elements, e\n",
    "\n",
    "cyclics = {}\n",
    "for a in elements:\n",
    "    currentval = a\n",
    "    cyclic = [a]\n",
    "    while currentval != e:\n",
    "        currentval = f(currentval, a)\n",
    "        cyclic.append(currentval)\n",
    "    print(\"The order of \" + a + \" is \" + str(len(cyclic)))\n",
    "    print(a + ' is a generator of {'+', '.join(cyclic)+'}')\n",
    "    cyclics.update({a:cyclic})"
   ]
  },
  {
   "cell_type": "markdown",
   "metadata": {},
   "source": [
    "This confirms that $G$ is not a cyclic group, as the order of a generator would have to be the order of the group. The last 8 elements represent 4 cyclic subgroups (one for each pair of inverses):\n",
    "<p style=\"text-align: center;\">d, 4</p>\n",
    "<img src=\"cyclic1.png\" alt=\"Cyclic subgroup\" width=\"125\"/>\n",
    "<p style=\"text-align: center;\">g, c</p>\n",
    "<img src=\"cyclic2.png\" alt=\"Cyclic subgroup\" width=\"125\"/>\n",
    "<p style=\"text-align: center;\">b, i</p>\n",
    "<img src=\"cyclic3.png\" alt=\"Cyclic subgroup\" width=\"125\"/>\n",
    "<p style=\"text-align: center;\">f, 7</p>\n",
    "<img src=\"cyclic4.png\" alt=\"Cyclic subgroup\" width=\"125\"/>"
   ]
  },
  {
   "cell_type": "markdown",
   "metadata": {},
   "source": [
    "The cyclic groups for the other elements are the element and 2 (or just 2 for 2).\n",
    "In terms of defining what the underlying relationship(s) of this group is, finding cyclic subgroups is useful. (i'm slightly disappointed I didn't find more of them). For example, we can rearrange one of the 4-element cyclic subgroups like so:\n",
    "<img src=\"cyclicordered.png\" alt=\"Cyclic subgroup in different order\" width=\"125\"/>\n",
    "This makes the cyclic-ness of this subgroup rather clear. It can be compared to (for example) $Z_4$:\n",
    "<img src=\"Z4.png\" alt=\"Z_4 Cayley Table\" width=\"125\"/>\n",
    "([credit for image](https://math.stackexchange.com/questions/3072800/prove-or-disprove-this-table-is-a-field))\n",
    "\n",
    "More specifically, I believe these groups are isomorphic. I had hoped to similarly compare larger sets had a larger subgroup been cyclic, which might have partially revealed, or at least hinted at, the underlying relationships of the group. I think it's unlikely that these elements in the group as a whole will have the properties of a set like $Z_4$ with only a 4-element subgroups being cyclic.\n",
    "\n",
    "<a href=\"http://parkerniko.com/archive/aa_group_journal/page_4/page_4.ipynb\" download>Download this notebook</a>\n",
    "<br>\n",
    "<a href=\"http://parkerniko.com/archive/aa_group_journal/\">Go back to Table of Contents</a>"
   ]
  }
 ],
 "metadata": {
  "kernelspec": {
   "display_name": "Python 3",
   "language": "python",
   "name": "python3"
  },
  "language_info": {
   "codemirror_mode": {
    "name": "ipython",
    "version": 3
   },
   "file_extension": ".py",
   "mimetype": "text/x-python",
   "name": "python",
   "nbconvert_exporter": "python",
   "pygments_lexer": "ipython3",
   "version": "3.8.3"
  }
 },
 "nbformat": 4,
 "nbformat_minor": 4
}
