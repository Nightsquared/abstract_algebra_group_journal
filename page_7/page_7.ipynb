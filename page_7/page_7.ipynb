{
 "cells": [
  {
   "cell_type": "markdown",
   "metadata": {},
   "source": [
    "<a href=\"http://parkerniko.com/archive/aa_group_journal/page_6/\" class=\"previous\">&laquo; Previous Page</a>\n",
    "<a style = \"float: right;\" href=\"http://parkerniko.com/archive/aa_group_journal/page_8/\" class=\"next\">Next Page &raquo;</a>\n",
    "<br>\n",
    "*Page 7*\n",
    "# Research\n",
    "For this page I'll try to figure out properties of my group based on the known groups isomorphic to it. I'll also be using the group Z_4 x Z-2 : Z_2 [from here](https://hobbes.la.asu.edu/groups/), mostly because I had a better time figuring out what was going on with this group (on some level, at least)."
   ]
  },
  {
   "cell_type": "code",
   "execution_count": 1,
   "metadata": {},
   "outputs": [],
   "source": [
    "import sys  \n",
    "sys.path.append('../')\n",
    "    \n",
    "from groupstartup import f, elements, e, verify, testBijection\n",
    "import z4z2z2\n",
    "import k8c2"
   ]
  },
  {
   "cell_type": "markdown",
   "metadata": {},
   "source": [
    "Informally, I already know it is my group because I realized the groups listed on this site and the previous one where exhaustive and none of the other groups could work.\n",
    "\n",
    "The page for K8:C2 includes something resembling a description of how the group was generated: $< a,b | a^4=b^2=(ab)^4=(aab)^2>$\n",
    "\n",
    "All of the elements on the right side are equal to the identity, so the group is closed under multiplication by replacing any of the previous four elements with the identity-essentially removing them. I tried (for hours) to generate this group programmatically from a and b, which turned out to be questionably possible. You can see the result of my attempts\n",
    "<a href=\"http://parkerniko.com/archive/aa_group_journal/page_7.2/\">here</a>.\n",
    "\n",
    "Basically, generating the table requires performing replacements of equivalent elements (at least, I think that's what's happening), often in non-trivial ways (by programming standards). For example, $bab * a^3bab = a$ according to the table. This can be verified with $bab * a^3bab = a \\Leftrightarrow a^3bab = (bab)^{-1}a = (a^2bab)a \\Leftrightarrow abab = baba \\Leftrightarrow aba = babab^{-1} = babab$. $b$ is commutitive over $aba$ so this implies $aba = bbaba = aba$.\n",
    "\n",
    "the relationships in the other group (Z_4 x Z-2 : Z_2) seem to be clearer. The first part is the external direct product of Z_4 and Z-2 (EDIT: after the last class, I realized these where probably internal products). Based on the webpage, the : Z_2 part means semi-direct products, which I haven't learned and I couldn't understand simply based on the wiki page. If we learn about this in later classes I'll return to this.\n",
    "<br>\n",
    "<a href=\"http://parkerniko.com/archive/aa_group_journal/page_7/page_7.ipynb\" download>Download this notebook</a>\n",
    "<br>\n",
    "<a href=\"http://parkerniko.com/archive/aa_group_journal/\">Go back to Table of Contents</a>"
   ]
  }
 ],
 "metadata": {
  "kernelspec": {
   "display_name": "Python 3",
   "language": "python",
   "name": "python3"
  },
  "language_info": {
   "codemirror_mode": {
    "name": "ipython",
    "version": 3
   },
   "file_extension": ".py",
   "mimetype": "text/x-python",
   "name": "python",
   "nbconvert_exporter": "python",
   "pygments_lexer": "ipython3",
   "version": "3.8.3"
  }
 },
 "nbformat": 4,
 "nbformat_minor": 4
}
