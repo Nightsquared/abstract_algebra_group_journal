{
 "cells": [
  {
   "cell_type": "markdown",
   "metadata": {},
   "source": [
    "<a href=\"https://alexscully.com/archive/aa_group_journal/page_8/\" class=\"previous\">&laquo; Previous Page</a>\n",
    "<a style = \"float: right;\" href=\"https://alexscully.com/archive/aa_group_journal/page_10/\" class=\"next\">Next Page &raquo;</a>\n",
    "<br>\n",
    "*Page 9*\n",
    "# Permutation Group\n",
    "Based on Cayley's theorem, there is a group of permutations isomorphic to every group. The proof for Cayley's theorem also provides a method for creating the permutation group. Here's another look at the Cayley table for reference:\n",
    "\n",
    "<img src=\"permutationscayleytable2.png\" alt=\"Cayley Table\" width=\"500\"/>"
   ]
  },
  {
   "cell_type": "markdown",
   "metadata": {},
   "source": [
    "The numberings are helpful for seeing were each element should go in the permutation. I also used hexidecimal (mostly) numbering for this (1 ->1, 15 -> F, 16 -> G ect. to keep things mostly consistent)"
   ]
  },
  {
   "cell_type": "code",
   "execution_count": 1,
   "metadata": {},
   "outputs": [],
   "source": [
    "import sys  \n",
    "sys.path.append('../')\n",
    "    \n",
    "from groupstartup import f, elements, e"
   ]
  },
  {
   "cell_type": "code",
   "execution_count": 7,
   "metadata": {},
   "outputs": [
    {
     "name": "stdout",
     "output_type": "stream",
     "text": [
      "2: (1)(2)(3)(4)(5)(6)(7)(8)(9)(A)(B)(C)(D)(E)(F)(G)\n",
      "8: (12)(34)(56)(78)(9A)(BC)(DE)(FG)\n",
      "5: (13)(24)(57)(68)(9B)(AC)(DF)(EG)\n",
      "a: (14)(23)(58)(67)(9C)(AB)(DG)(EF)\n",
      "6: (15)(26)(37)(48)(9E)(AD)(BG)(CF)\n",
      "1: (16)(25)(38)(47)(9D)(AE)(BF)(CG)\n",
      "h: (17)(28)(35)(46)(9G)(AF)(BE)(CD)\n",
      "3: (18)(27)(36)(45)(9F)(AG)(BD)(CE)\n",
      "g: (194C)(2A3B)(5D8G)(6E7F)\n",
      "d: (1A4B)(293C)(5E8F)(6D7G)\n",
      "4: (1B4A)(2C39)(5F8E)(6G7D)\n",
      "c: (1C49)(2B3A)(5G8D)(6F7E)\n",
      "i: (1D3F)(2E4G)(597B)(6A8C)\n",
      "f: (1E3G)(2D4F)(5A7C)(698B)\n",
      "b: (1F3D)(2G4E)(5B79)(6C8A)\n",
      "7: (1G3E)(2F4D)(5C7A)(6B89)\n"
     ]
    }
   ],
   "source": [
    "elementlabels = {}\n",
    "for i in range(1, len(elements)+1):\n",
    "    if i < 10:\n",
    "        elementlabels[elements[i-1]] = str(i)\n",
    "    else:\n",
    "        elementlabels[elements[i-1]] = chr(ord('A')+i-10)\n",
    "for element in elements:\n",
    "    remainingelements = [i for i in elements]\n",
    "    outstr = ''\n",
    "    while(len(remainingelements) > 0):\n",
    "        currentelement = remainingelements.pop(0)\n",
    "        currentchain = [currentelement]\n",
    "        outstr += ')('+elementlabels[currentelement]\n",
    "        currentelement = f(element, currentelement)\n",
    "        while currentelement not in currentchain:\n",
    "            currentchain.append(currentelement)\n",
    "            remainingelements.remove(currentelement)\n",
    "            outstr += elementlabels[currentelement]\n",
    "            currentelement = f(element, currentelement)\n",
    "    print(element + ': ' + outstr[1:] + ')')"
   ]
  },
  {
   "cell_type": "markdown",
   "metadata": {},
   "source": [
    "Let's check that two permutations get mapped to the right place.\n",
    "(18)(27)(36)(45)(9F)(AG)(BD)(CE) * (1A4B)(293C)(5E8F)(6D7G)\n",
    "\n",
    "1->A->G\n",
    "G->6->3\n",
    "3->C->E\n",
    "E->8->1\n",
    "\n",
    "2->9->F\n",
    "F->5->4\n",
    "4->B->D\n",
    "D->7->2\n",
    "\n",
    "5->E->C\n",
    "C->2->7\n",
    "7->G->A\n",
    "A->4->5\n",
    "\n",
    "6->D->B\n",
    "B->1->8\n",
    "8->F->9\n",
    "9->3->6\n",
    "\n",
    "This results in the permutation (1G3E)(2F4D)(5C7A)(6B89), which is the permutation for 7. This checks, as 3d=7."
   ]
  },
  {
   "cell_type": "markdown",
   "metadata": {},
   "source": [
    "<a href=\"https://alexscully.com/archive/aa_group_journal/page_9/page_9.ipynb\" download>Download this notebook</a>\n",
    "<br>\n",
    "<a href=\"https://alexscully.com/archive/aa_group_journal/\">Go back to Table of Contents</a>"
   ]
  }
 ],
 "metadata": {
  "kernelspec": {
   "display_name": "Python 3",
   "language": "python",
   "name": "python3"
  },
  "language_info": {
   "codemirror_mode": {
    "name": "ipython",
    "version": 3
   },
   "file_extension": ".py",
   "mimetype": "text/x-python",
   "name": "python",
   "nbconvert_exporter": "python",
   "pygments_lexer": "ipython3",
   "version": "3.8.3"
  }
 },
 "nbformat": 4,
 "nbformat_minor": 4
}
