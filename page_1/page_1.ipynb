{
 "cells": [
  {
   "cell_type": "markdown",
   "metadata": {},
   "source": [
    "<a style = \"float: right;\" href=\"http://parkerniko.com/archive/aa_group_journal/page_2/\" class=\"next\">Next Page &raquo;</a>\n",
    "<br>\n",
    "*Page 1*\n",
    "# Introduction: Group 42\n",
    "For this page, I'll introduce my group, present its Cayley table, and prove that it is a group.\n",
    "First, let's import the group table with some python. I'll include this block at the start of every page, and expand it as necessary."
   ]
  },
  {
   "cell_type": "code",
   "execution_count": 1,
   "metadata": {},
   "outputs": [],
   "source": [
    "#common setup (variable definitions)\n",
    "#import group data from the uploaded csv\n",
    "import pandas as pd\n",
    "import numpy as np\n",
    "df = pd.read_csv (r'http://parkerniko.com/archive/aa_group_journal/group.csv', header = None)\n",
    "group = df.to_numpy()\n",
    "#print(group)\n",
    "elements = [i for i in group[0]];"
   ]
  },
  {
   "cell_type": "markdown",
   "metadata": {},
   "source": [
    "## The Cayley Table\n",
    "I built a [small web app](http://parkerniko.com/archive/aa_group_journal/page_1/cayleytable.php) to display the Cayley table for this group, with different colors for each element.\n",
    "This is the table I was given:\n",
    "<img src=\"groupdefault.png\" alt=\"table 1\" width=\"500\"/>\n",
    "I also added a feature to allow swapping rows and columns of two elements simultaniously. I tried swapping elements around in such a way that there where 2x2 sections with 2 alternating elements, like so:\n",
    "<img src=\"2x2.PNG\" alt=\"drawing\" width=\"100\"/>\n",
    "after some time, patterns started to emerge:\n",
    "<img src=\"grouppattern1.png\" alt=\"table 2\" width=\"500\"/>\n",
    "(the numbers on the sides of the image are there just to make swapping easier).\n",
    "The 4x4 section in the top left has 4 2x2 patterns, and looking at the other 4x4 sections I figured I could do this for the rest of them:\n",
    "<img src=\"grouppattern2.png\" alt=\"table 3\" width=\"500\"/>\n",
    "This is mostly ideal, but there's one thing left to do. The 4 8x8 sections can be organized further, to look like the 2x2 sections with 2 elements:\n",
    "<img src=\"grouppattern3.png\" alt=\"table 4\" width=\"500\"/>\n",
    "I tried to see if it was possible to arrange the table in a similar way but with different pairs of elements, or with one element on each diagonal, but couldn't find a way to do either.\n",
    "Note that the first row/column did not swap in any of these images. As I will discuss, this was important because the first element is the identity.\n"
   ]
  },
  {
   "cell_type": "markdown",
   "metadata": {},
   "source": [
    "## The Identity\n",
    "If this table forms a group, it must have an identity. We can see fairly quickly that 2 is the only candidate to be the identity, as it is the only element in the group (I'll refer to the group as $G$ from now on) for which its square is itself, which is required by the definition of an identity. From there we can satisfy the rest of the requirement for the identity by noting that each element in the first row and column is that element (or, we can define the elements as what they appear as in the first row and column).\n",
    "Now, we can define which element belongs to each row and column, and restructure the group table:"
   ]
  },
  {
   "cell_type": "code",
   "execution_count": 2,
   "metadata": {},
   "outputs": [
    {
     "name": "stdout",
     "output_type": "stream",
     "text": [
      "g\n",
      "d\n"
     ]
    }
   ],
   "source": [
    "#define lookup dicts\n",
    "lookup = {group[0][i]:i for i in range(len(group))}\n",
    "rlookup = {i:group[0][i] for i in range(len(group))}\n",
    "#print(lookup)\n",
    "#print(rlookup)\n",
    "\n",
    "#create and fill group table dictionary\n",
    "groupdict = {}\n",
    "for i in range(len(group)):\n",
    "    subdict = {}\n",
    "    for j in range(len(group)):\n",
    "        subdict.update({rlookup[j]:group[i][j]})\n",
    "    groupdict.update({rlookup[i]:subdict})\n",
    "print(groupdict['7']['3'])\n",
    "print(groupdict['3']['7'])"
   ]
  },
  {
   "cell_type": "markdown",
   "metadata": {},
   "source": [
    "Note that this demonstrates that $G$ is not abelian."
   ]
  },
  {
   "cell_type": "markdown",
   "metadata": {},
   "source": [
    "## Inverses\n",
    "if $G$ is a group, $\\exists! a^{-1} \\in G$  $\\forall a \\in G$ s.t. $a(a^{-1}) = (a^{-1})a = 2$. We can confirm this by looking at the table, or programmatically:"
   ]
  },
  {
   "cell_type": "code",
   "execution_count": 3,
   "metadata": {},
   "outputs": [
    {
     "name": "stdout",
     "output_type": "stream",
     "text": [
      "The inverse of 2 is 2\n",
      "The inverse of 4 is d\n",
      "The inverse of 6 is 6\n",
      "The inverse of 8 is 8\n",
      "The inverse of a is a\n",
      "The inverse of b is i\n",
      "The inverse of c is g\n",
      "The inverse of d is 4\n",
      "The inverse of 1 is 1\n",
      "The inverse of 3 is 3\n",
      "The inverse of 5 is 5\n",
      "The inverse of 7 is f\n",
      "The inverse of f is 7\n",
      "The inverse of g is c\n",
      "The inverse of h is h\n",
      "The inverse of i is b\n"
     ]
    }
   ],
   "source": [
    "for a in elements:\n",
    "    hasinverse = False\n",
    "    for b in elements:\n",
    "        result = groupdict[a][b]\n",
    "        result2 = groupdict[b][a]\n",
    "        if result == '2' and result2 == '2':\n",
    "            hasinverse = True\n",
    "            print(\"The inverse of \" + a + \" is \" + b)\n",
    "    if not hasinverse:\n",
    "        print(a + \" does not have an inverse!\")"
   ]
  },
  {
   "cell_type": "markdown",
   "metadata": {},
   "source": [
    "## Associativity\n",
    "if $G$ is a group, $a(bc)=(ab)c$  $\\forall$  $a, b, c \\in G$. Without knowing what the operation was, I couldn't think of a way of doing this other than trying a bunch of combinations (there may be a way of optimizing it, but I couldn't think of a way of proving it without trying some number of combinations for a, b, and c)"
   ]
  },
  {
   "cell_type": "code",
   "execution_count": 4,
   "metadata": {},
   "outputs": [
    {
     "name": "stdout",
     "output_type": "stream",
     "text": [
      "All combinations are associative.\n"
     ]
    }
   ],
   "source": [
    "allassociative = True\n",
    "for a in elements:\n",
    "    for b in elements:\n",
    "        for c in elements:\n",
    "            if groupdict[groupdict[a][b]][c] != groupdict[a][groupdict[b][c]]:\n",
    "                print(a + ', ' + b + ', ' + c + ' is not associative')\n",
    "                allassociative = False\n",
    "if allassociative:\n",
    "    print(\"All combinations are associative.\")"
   ]
  },
  {
   "cell_type": "markdown",
   "metadata": {},
   "source": [
    "## Conclusion\n",
    "It should be clear from the table that $G$ is closed, especially since I only defined colors for the 16 elements in the first row and column. (Python also would've produced a keyerror in the associativity test if $G$ wasn't closed). Obviously $G$ is nonempty, so all conditions for a group have been met.\n",
    "\n",
    "<a href=\"http://parkerniko.com/archive/aa_group_journal/page_1/page_1.ipynb\" download>Download this notebook</a>\n",
    "<br>\n",
    "<a href=\"http://parkerniko.com/archive/aa_group_journal/\">Go back to Table of Contents</a>"
   ]
  }
 ],
 "metadata": {
  "kernelspec": {
   "display_name": "Python 3",
   "language": "python",
   "name": "python3"
  },
  "language_info": {
   "codemirror_mode": {
    "name": "ipython",
    "version": 3
   },
   "file_extension": ".py",
   "mimetype": "text/x-python",
   "name": "python",
   "nbconvert_exporter": "python",
   "pygments_lexer": "ipython3",
   "version": "3.8.3"
  }
 },
 "nbformat": 4,
 "nbformat_minor": 4
}
