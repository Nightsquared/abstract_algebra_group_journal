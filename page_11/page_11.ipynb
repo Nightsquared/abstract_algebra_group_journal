{
 "cells": [
  {
   "cell_type": "markdown",
   "metadata": {},
   "source": [
    "<a href=\"https://alexscully.com/archive/aa_group_journal/page_10/\" class=\"previous\">&laquo; Previous Page</a>\n",
    "<a style = \"float: right;\" href=\"https://alexscully.com/archive/aa_group_journal/page_12/\" class=\"next\">Next Page &raquo;</a>\n",
    "<br>\n",
    "*Page 11*\n",
    "# Normal Subgroups and Internal Direct Products\n",
    "This page will determine which subgroups are normal subgroups, and if any combinations of normal subgroups qualify as internal direct products. I initially thought all subgroups would be normal because all subgroups are abelian, but a look at the subgroup diagram at https://hobbes.la.asu.edu/groups/ made me think otherwise:\n",
    "<img src=\"subgroupdiagram.png\" alt=\"subgroup diagram\" width=\"500\"/>\n",
    "I've basically opted to stay in the group given, there are many ismorphisms to the better-know groups it is isomorphic to, and I didn't want to arbitrarily pick one to use. Because of this, I'll calculate the normal subgroups in my group."
   ]
  },
  {
   "cell_type": "code",
   "execution_count": 1,
   "metadata": {},
   "outputs": [],
   "source": [
    "import sys  \n",
    "sys.path.append('../')\n",
    "    \n",
    "from groupstartup import f, elements, e, subgroups, inverse"
   ]
  },
  {
   "cell_type": "code",
   "execution_count": 2,
   "metadata": {},
   "outputs": [
    {
     "name": "stdout",
     "output_type": "stream",
     "text": [
      "subgroup ['2'] is a normal subgroup.\n",
      "subgroup ['2', '8'] is a normal subgroup.\n",
      "subgroup ['2', '5'] is a normal subgroup.\n",
      "subgroup ['2', 'a'] is a normal subgroup.\n",
      "subgroup ['2', '8', '5', 'a'] is a normal subgroup.\n",
      "subgroup ['2', '6'] is not a normal subgroup.\n",
      "subgroup ['2', '1'] is not a normal subgroup.\n",
      "subgroup ['2', '8', '6', '1'] is a normal subgroup.\n",
      "subgroup ['2', 'h'] is not a normal subgroup.\n",
      "subgroup ['2', '5', '6', 'h'] is not a normal subgroup.\n",
      "subgroup ['2', 'a', '1', 'h'] is not a normal subgroup.\n",
      "subgroup ['2', '3'] is not a normal subgroup.\n",
      "subgroup ['2', 'a', '6', '3'] is not a normal subgroup.\n",
      "subgroup ['2', '5', '1', '3'] is not a normal subgroup.\n",
      "subgroup ['2', '8', 'h', '3'] is a normal subgroup.\n",
      "subgroup ['2', '8', '5', 'a', '6', '1', 'h', '3'] is a normal subgroup.\n",
      "subgroup ['2', 'a', 'g', 'c'] is not a normal subgroup.\n",
      "subgroup ['2', 'a', 'd', '4'] is not a normal subgroup.\n",
      "subgroup ['2', '8', '5', 'a', 'g', 'c', 'd', '4'] is a normal subgroup.\n",
      "subgroup ['2', '5', 'i', 'b'] is not a normal subgroup.\n",
      "subgroup ['2', '5', 'f', '7'] is not a normal subgroup.\n",
      "subgroup ['2', '8', '5', 'a', 'i', 'b', 'f', '7'] is a normal subgroup.\n",
      "subgroup ['2', '8', '5', 'a', '6', '1', 'h', '3', 'g', 'c', 'd', '4', 'i', 'b', 'f', '7'] is a normal subgroup.\n",
      "there are 11 normal subgroups.\n"
     ]
    }
   ],
   "source": [
    "def normaltest(subgroup):\n",
    "    global elements, inverse, f\n",
    "    for element in elements:\n",
    "        for subgroupelement in subgroup:\n",
    "            if not f(f(element, subgroupelement), inverse(element)) in subgroup:\n",
    "                return False\n",
    "    return True\n",
    "\n",
    "normal_subgroups = []\n",
    "for subgroup in subgroups:\n",
    "    if normaltest(subgroup) == True:\n",
    "        print('subgroup ' + str(subgroup) + ' is a normal subgroup.')\n",
    "        normal_subgroups.append(subgroup)\n",
    "    else:\n",
    "        print('subgroup ' + str(subgroup) + ' is not a normal subgroup.')\n",
    "        \n",
    "print('there are ' + str(len(normal_subgroups)) + ' normal subgroups.')"
   ]
  },
  {
   "cell_type": "markdown",
   "metadata": {},
   "source": [
    "These results match the subgroup diagram. Although the subgroups are commutitive with elements in the subgroup, they aren't commutative with elements outside the subgroup, so not all groups ended up being commutative. {2, 8, 5, A} is the center of this group, so it and all of its subgroups commute with all elements in the group and are normal. \n",
    "\n",
    "Next up, to determine any internal direct products from these:"
   ]
  },
  {
   "cell_type": "code",
   "execution_count": 3,
   "metadata": {},
   "outputs": [
    {
     "name": "stdout",
     "output_type": "stream",
     "text": [
      "{2} and {2, 8, 5, a, 6, 1, h, 3, g, c, d, 4, i, b, f, 7} is an internal direct product\n",
      "{2, 8, 5, a, 6, 1, h, 3, g, c, d, 4, i, b, f, 7} and {2} is an internal direct product\n"
     ]
    }
   ],
   "source": [
    "def intersection(lst1, lst2):\n",
    "    #https://www.geeksforgeeks.org/python-intersection-two-lists/\n",
    "    lst3 = [value for value in lst1 if value in lst2]\n",
    "    return lst3\n",
    "\n",
    "def IDPtest(subgroup1, subgroup2):\n",
    "    global e, f, elements\n",
    "    return intersection(subgroup1, subgroup2) == [e] and {f(a, b) for a in subgroup1 for b in subgroup2} == set(elements)\n",
    "\n",
    "for subgroup1 in normal_subgroups:\n",
    "    for subgroup2 in normal_subgroups:\n",
    "        if(IDPtest(subgroup1, subgroup2)):\n",
    "            print('{'+', '.join(subgroup1) + '} and {' + ', '.join(subgroup2)+ '} is an internal direct product')"
   ]
  },
  {
   "cell_type": "markdown",
   "metadata": {},
   "source": [
    "So the only internal direct product is trivial. This is disappointing, as I was hoping to use the properties of the subgroups of an internal direct product to understand the group more meaningfully. This result makes sense, however, because every normal subgroup of order 4 or more shares 2 and 8 as elements.\n",
    "<br>\n",
    "<a href=\"https://alexscully.com/archive/aa_group_journal/page_11/page_11.ipynb\" download>Download this notebook</a>\n",
    "<br>\n",
    "<a href=\"https://alexscully.com/archive/aa_group_journal/\">Go back to Table of Contents</a>"
   ]
  }
 ],
 "metadata": {
  "kernelspec": {
   "display_name": "Python 3",
   "language": "python",
   "name": "python3"
  },
  "language_info": {
   "codemirror_mode": {
    "name": "ipython",
    "version": 3
   },
   "file_extension": ".py",
   "mimetype": "text/x-python",
   "name": "python",
   "nbconvert_exporter": "python",
   "pygments_lexer": "ipython3",
   "version": "3.8.3"
  }
 },
 "nbformat": 4,
 "nbformat_minor": 4
}
